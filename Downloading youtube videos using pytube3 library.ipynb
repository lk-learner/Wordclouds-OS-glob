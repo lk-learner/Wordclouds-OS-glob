{
 "cells": [
  {
   "cell_type": "code",
   "execution_count": 1,
   "metadata": {},
   "outputs": [],
   "source": [
    "from pytube import YouTube as youtube"
   ]
  },
  {
   "cell_type": "code",
   "execution_count": 2,
   "metadata": {},
   "outputs": [
    {
     "name": "stdout",
     "output_type": "stream",
     "text": [
      "link to youtube video: https://www.youtube.com/watch?v=Q-hTOOAQWVk&list=PLwgFb6VsUj_lQTpQKDtLXKXElQychT_2j&index=132\n",
      "downloaded https://www.youtube.com/watch?v=Q-hTOOAQWVk&list=PLwgFb6VsUj_lQTpQKDtLXKXElQychT_2j&index=132\n"
     ]
    }
   ],
   "source": [
    "link = input('link to youtube video: ')\n",
    "yt = youtube(link)\n",
    "yt.streams.filter(progressive = True, file_extension = 'mp4', res = '720p').first().download()\n",
    "print('downloaded', link)"
   ]
  },
  {
   "cell_type": "code",
   "execution_count": null,
   "metadata": {},
   "outputs": [],
   "source": []
  }
 ],
 "metadata": {
  "kernelspec": {
   "display_name": "Python 3",
   "language": "python",
   "name": "python3"
  },
  "language_info": {
   "codemirror_mode": {
    "name": "ipython",
    "version": 3
   },
   "file_extension": ".py",
   "mimetype": "text/x-python",
   "name": "python",
   "nbconvert_exporter": "python",
   "pygments_lexer": "ipython3",
   "version": "3.7.1"
  }
 },
 "nbformat": 4,
 "nbformat_minor": 2
}
