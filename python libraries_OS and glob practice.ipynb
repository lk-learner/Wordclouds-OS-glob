{
 "cells": [
  {
   "cell_type": "markdown",
   "metadata": {},
   "source": [
    "# OS library practice"
   ]
  },
  {
   "cell_type": "code",
   "execution_count": 1,
   "metadata": {},
   "outputs": [],
   "source": [
    "import os"
   ]
  },
  {
   "cell_type": "code",
   "execution_count": 3,
   "metadata": {},
   "outputs": [
    {
     "data": {
      "text/plain": [
       "'C:\\\\Users\\\\lavy_\\\\image analysis'"
      ]
     },
     "execution_count": 3,
     "metadata": {},
     "output_type": "execute_result"
    }
   ],
   "source": [
    "os.getcwd()"
   ]
  },
  {
   "cell_type": "code",
   "execution_count": 4,
   "metadata": {},
   "outputs": [
    {
     "data": {
      "text/plain": [
       "['.ipynb_checkpoints',\n",
       " 'hopper-truck loading data__ trial testing1.ipynb',\n",
       " 'hopper-truck loading data__ trial testing2.ipynb',\n",
       " 'python library_OS practice.ipynb',\n",
       " 'Untitled.ipynb']"
      ]
     },
     "execution_count": 4,
     "metadata": {},
     "output_type": "execute_result"
    }
   ],
   "source": [
    "os.listdir()"
   ]
  },
  {
   "cell_type": "code",
   "execution_count": 5,
   "metadata": {},
   "outputs": [
    {
     "data": {
      "text/plain": [
       "5"
      ]
     },
     "execution_count": 5,
     "metadata": {},
     "output_type": "execute_result"
    }
   ],
   "source": [
    "len(os.listdir())"
   ]
  },
  {
   "cell_type": "code",
   "execution_count": 8,
   "metadata": {},
   "outputs": [],
   "source": [
    "path=r'C:\\Users\\lavy_\\OneDrive\\Desktop\\Python,ML,Coding'\n",
    "os.chdir(path)"
   ]
  },
  {
   "cell_type": "code",
   "execution_count": 9,
   "metadata": {},
   "outputs": [
    {
     "data": {
      "text/plain": [
       "'C:\\\\Users\\\\lavy_\\\\OneDrive\\\\Desktop\\\\Python,ML,Coding'"
      ]
     },
     "execution_count": 9,
     "metadata": {},
     "output_type": "execute_result"
    }
   ],
   "source": [
    "os.getcwd()"
   ]
  },
  {
   "cell_type": "code",
   "execution_count": 10,
   "metadata": {},
   "outputs": [
    {
     "data": {
      "text/plain": [
       "['365datascience courses material',\n",
       " 'Anaconda',\n",
       " 'ball.jpg',\n",
       " 'Code for background color image in python with cv2 library.py',\n",
       " 'code for ballscanner in a image.py',\n",
       " 'code for block movement.py',\n",
       " 'Code for Face recognition in a picture.py',\n",
       " 'Code for getting gray image in python with cv2 library.py',\n",
       " 'code for plot graph and generating sinewave.py',\n",
       " 'Code for Speech2Text.py',\n",
       " 'Coding book',\n",
       " 'diwali.jpg',\n",
       " 'FreeEnglishTextbooks.xlsx',\n",
       " 'globe.jpg',\n",
       " 'haarcascade_frontalface_default.xml',\n",
       " 'Hands-On Machine Learning with Scikit-Learn and TensorFlow_ Concepts, Tools, and Techniques to Build Intelligent Systems ( PDFDrive.com ).pdf',\n",
       " 'How to Learn Data Science For Free.docx',\n",
       " 'Multiple images search in a folder.xlsm',\n",
       " 'Multiple images search in folder and save to another folder.xlsm',\n",
       " 'OnlineCourse.docx',\n",
       " 'Practical Machine Learning and Image Processing_ For Facial Recognition, Object Detection, and Pattern Recognition Using Python ( PDFDrive.com ).pdf',\n",
       " 'python intro presentation.pptx',\n",
       " 'python libraries installed on lenovo windows10, 64bit laptop.txt',\n",
       " 'R-intro.pdf',\n",
       " 'Ramesh',\n",
       " 'rprogramming.pdf',\n",
       " 'Rushi code for hackathon project medic bot.py',\n",
       " 'udacity',\n",
       " 'udemy',\n",
       " 'VR.zip',\n",
       " 'Wireframing - CCD.pdf']"
      ]
     },
     "execution_count": 10,
     "metadata": {},
     "output_type": "execute_result"
    }
   ],
   "source": [
    "os.listdir()"
   ]
  },
  {
   "cell_type": "code",
   "execution_count": 11,
   "metadata": {},
   "outputs": [
    {
     "data": {
      "text/plain": [
       "31"
      ]
     },
     "execution_count": 11,
     "metadata": {},
     "output_type": "execute_result"
    }
   ],
   "source": [
    "len(os.listdir())"
   ]
  },
  {
   "cell_type": "code",
   "execution_count": 12,
   "metadata": {},
   "outputs": [],
   "source": [
    "file=os.path.join(path,'Anaconda')"
   ]
  },
  {
   "cell_type": "code",
   "execution_count": 13,
   "metadata": {},
   "outputs": [
    {
     "data": {
      "text/plain": [
       "'C:\\\\Users\\\\lavy_\\\\OneDrive\\\\Desktop\\\\Python,ML,Coding\\\\Anaconda'"
      ]
     },
     "execution_count": 13,
     "metadata": {},
     "output_type": "execute_result"
    }
   ],
   "source": [
    "file"
   ]
  },
  {
   "cell_type": "code",
   "execution_count": 14,
   "metadata": {},
   "outputs": [
    {
     "name": "stdout",
     "output_type": "stream",
     "text": [
      "C:\\Users\\lavy_\\OneDrive\\Desktop\\Python,ML,Coding\\Anaconda\n"
     ]
    }
   ],
   "source": [
    "print(file)"
   ]
  },
  {
   "cell_type": "code",
   "execution_count": 15,
   "metadata": {},
   "outputs": [
    {
     "data": {
      "text/plain": [
       "['code for plot graph generating sinewave.txt',\n",
       " 'diwali.jpg',\n",
       " 'FFT of signal using anaconda spyder3.py',\n",
       " 'image reading using anaconda spyder3.py',\n",
       " 'plot graph and generate sinewave using anaconda spyder3.py',\n",
       " 'record sound or speech using anaconda spyder3.py',\n",
       " 'record sound spectral analysis FFT using anaconda spyder3.py',\n",
       " 'star.jpg']"
      ]
     },
     "execution_count": 15,
     "metadata": {},
     "output_type": "execute_result"
    }
   ],
   "source": [
    "os.listdir(file)"
   ]
  },
  {
   "cell_type": "code",
   "execution_count": 16,
   "metadata": {},
   "outputs": [],
   "source": [
    "os.chdir(file)\n",
    "os.rename('star.jpg','stars.jpg')"
   ]
  },
  {
   "cell_type": "code",
   "execution_count": 19,
   "metadata": {},
   "outputs": [],
   "source": [
    "my_files = os.listdir(file)"
   ]
  },
  {
   "cell_type": "code",
   "execution_count": 20,
   "metadata": {},
   "outputs": [],
   "source": [
    "jpg = []\n",
    "for files in my_files:\n",
    "    if files.endswith('.jpg'):\n",
    "        jpg.append(files)"
   ]
  },
  {
   "cell_type": "code",
   "execution_count": 21,
   "metadata": {},
   "outputs": [
    {
     "data": {
      "text/plain": [
       "['diwali.jpg', 'stars.jpg']"
      ]
     },
     "execution_count": 21,
     "metadata": {},
     "output_type": "execute_result"
    }
   ],
   "source": [
    "jpg"
   ]
  },
  {
   "cell_type": "markdown",
   "metadata": {},
   "source": [
    "# glob library practice"
   ]
  },
  {
   "cell_type": "code",
   "execution_count": 22,
   "metadata": {},
   "outputs": [],
   "source": [
    "import glob"
   ]
  },
  {
   "cell_type": "code",
   "execution_count": 23,
   "metadata": {},
   "outputs": [
    {
     "data": {
      "text/plain": [
       "['C:\\\\Users\\\\lavy_\\\\OneDrive\\\\Desktop\\\\Python,ML,Coding']"
      ]
     },
     "execution_count": 23,
     "metadata": {},
     "output_type": "execute_result"
    }
   ],
   "source": [
    "glob.glob(r'C:\\Users\\lavy_\\OneDrive\\Desktop\\Python,ML,Coding')"
   ]
  },
  {
   "cell_type": "code",
   "execution_count": 24,
   "metadata": {},
   "outputs": [
    {
     "data": {
      "text/plain": [
       "['C:\\\\Users\\\\lavy_\\\\OneDrive\\\\Desktop\\\\Python,ML,Coding\\\\ball.jpg',\n",
       " 'C:\\\\Users\\\\lavy_\\\\OneDrive\\\\Desktop\\\\Python,ML,Coding\\\\diwali.jpg',\n",
       " 'C:\\\\Users\\\\lavy_\\\\OneDrive\\\\Desktop\\\\Python,ML,Coding\\\\globe.jpg']"
      ]
     },
     "execution_count": 24,
     "metadata": {},
     "output_type": "execute_result"
    }
   ],
   "source": [
    "glob.glob(r'C:\\Users\\lavy_\\OneDrive\\Desktop\\Python,ML,Coding\\*.jpg')"
   ]
  },
  {
   "cell_type": "code",
   "execution_count": 29,
   "metadata": {},
   "outputs": [
    {
     "data": {
      "text/plain": [
       "['C:\\\\Users\\\\lavy_\\\\OneDrive\\\\Desktop\\\\Python,ML,Coding\\\\ball.jpg',\n",
       " 'C:\\\\Users\\\\lavy_\\\\OneDrive\\\\Desktop\\\\Python,ML,Coding\\\\diwali.jpg',\n",
       " 'C:\\\\Users\\\\lavy_\\\\OneDrive\\\\Desktop\\\\Python,ML,Coding\\\\globe.jpg',\n",
       " 'C:\\\\Users\\\\lavy_\\\\OneDrive\\\\Desktop\\\\Python,ML,Coding\\\\Anaconda\\\\diwali.jpg',\n",
       " 'C:\\\\Users\\\\lavy_\\\\OneDrive\\\\Desktop\\\\Python,ML,Coding\\\\Anaconda\\\\stars.jpg',\n",
       " 'C:\\\\Users\\\\lavy_\\\\OneDrive\\\\Desktop\\\\Python,ML,Coding\\\\udacity\\\\[FCO] M.L.Engineer.Nano v2.0.0\\\\Part 01-Module 01-Lesson 01_Welcome to Machine Learning\\\\img\\\\1-14-machine-learning-and-stanley2x.jpg',\n",
       " 'C:\\\\Users\\\\lavy_\\\\OneDrive\\\\Desktop\\\\Python,ML,Coding\\\\udacity\\\\[FCO] M.L.Engineer.Nano v2.0.0\\\\Part 01-Module 01-Lesson 01_Welcome to Machine Learning\\\\img\\\\semi-supervised-learning.jpg',\n",
       " 'C:\\\\Users\\\\lavy_\\\\OneDrive\\\\Desktop\\\\Python,ML,Coding\\\\udacity\\\\[FCO] M.L.Engineer.Nano v2.0.0\\\\Part 01-Module 10-Lesson 01_Linear Regression\\\\img\\\\quiz.jpg',\n",
       " 'C:\\\\Users\\\\lavy_\\\\OneDrive\\\\Desktop\\\\Python,ML,Coding\\\\udacity\\\\[FCO] M.L.Engineer.Nano v2.0.0\\\\Part 02-Module 01-Lesson 01_Welcome to Advanced Machine Learning\\\\img\\\\semi-supervised-learning.jpg',\n",
       " 'C:\\\\Users\\\\lavy_\\\\OneDrive\\\\Desktop\\\\Python,ML,Coding\\\\udacity\\\\[FCO] M.L.Engineer.Nano v2.0.0\\\\Part 02-Module 01-Lesson 01_Welcome to Advanced Machine Learning\\\\img\\\\thumbs-up.jpg',\n",
       " 'C:\\\\Users\\\\lavy_\\\\OneDrive\\\\Desktop\\\\Python,ML,Coding\\\\udacity\\\\[FCO] M.L.Engineer.Nano v2.0.0\\\\Part 02-Module 03-Lesson 02_The RL Framework The Problem\\\\img\\\\article-2278590-1792e332000005dc-394-634x615.jpg',\n",
       " 'C:\\\\Users\\\\lavy_\\\\OneDrive\\\\Desktop\\\\Python,ML,Coding\\\\udacity\\\\[FCO] M.L.Engineer.Nano v2.0.0\\\\Part 02-Module 03-Lesson 02_The RL Framework The Problem\\\\img\\\\chess-game.jpg',\n",
       " 'C:\\\\Users\\\\lavy_\\\\OneDrive\\\\Desktop\\\\Python,ML,Coding\\\\udacity\\\\[FCO] M.L.Engineer.Nano v2.0.0\\\\Part 02-Module 03-Lesson 02_The RL Framework The Problem\\\\img\\\\go.jpg',\n",
       " 'C:\\\\Users\\\\lavy_\\\\OneDrive\\\\Desktop\\\\Python,ML,Coding\\\\udacity\\\\[FCO] M.L.Engineer.Nano v2.0.0\\\\Part 02-Module 03-Lesson 02_The RL Framework The Problem\\\\img\\\\index.jpg',\n",
       " 'C:\\\\Users\\\\lavy_\\\\OneDrive\\\\Desktop\\\\Python,ML,Coding\\\\udacity\\\\[FCO] M.L.Engineer.Nano v2.0.0\\\\Part 02-Module 03-Lesson 02_The RL Framework The Problem\\\\img\\\\pup.jpg',\n",
       " 'C:\\\\Users\\\\lavy_\\\\OneDrive\\\\Desktop\\\\Python,ML,Coding\\\\udacity\\\\[FCO] M.L.Engineer.Nano v2.0.0\\\\Part 02-Module 03-Lesson 04_Dynamic Programming\\\\img\\\\frozen-lake-6.jpg',\n",
       " 'C:\\\\Users\\\\lavy_\\\\OneDrive\\\\Desktop\\\\Python,ML,Coding\\\\udacity\\\\[FCO] M.L.Engineer.Nano v2.0.0\\\\Part 02-Module 03-Lesson 06_Temporal-Difference Methods\\\\img\\\\matengai-of-kuniga-coast-in-oki-island-shimane-pref600.jpg',\n",
       " 'C:\\\\Users\\\\lavy_\\\\OneDrive\\\\Desktop\\\\Python,ML,Coding\\\\udacity\\\\[FCO] M.L.Engineer.Nano v2.0.0\\\\Part 02-Module 04-Lesson 05_Teach a Quadcopter How to Fly\\\\img\\\\parrot-ar-drone.jpg',\n",
       " 'C:\\\\Users\\\\lavy_\\\\OneDrive\\\\Desktop\\\\Python,ML,Coding\\\\udacity\\\\[FCO] M.L.Engineer.Nano v2.0.0\\\\Part 02-Module 06-Lesson 02_Take 30 Min to Improve your LinkedIn\\\\img\\\\profile-pics.jpg',\n",
       " 'C:\\\\Users\\\\lavy_\\\\OneDrive\\\\Desktop\\\\Python,ML,Coding\\\\udacity\\\\[FCO] M.L.Engineer.Nano v2.0.0\\\\Part 03-Module 02-Lesson 01_Intro to TensorFlow\\\\img\\\\06-l-supervised-classification-391-1.jpg',\n",
       " 'C:\\\\Users\\\\lavy_\\\\OneDrive\\\\Desktop\\\\Python,ML,Coding\\\\udacity\\\\[FCO] M.L.Engineer.Nano v2.0.0\\\\Part 03-Module 05-Lesson 01_Convolutional Neural Networks\\\\img\\\\dog-1210559-1280.jpg',\n",
       " 'C:\\\\Users\\\\lavy_\\\\OneDrive\\\\Desktop\\\\Python,ML,Coding\\\\udacity\\\\[FCO] M.L.Engineer.Nano v2.0.0\\\\Part 03-Module 05-Lesson 01_Convolutional Neural Networks\\\\img\\\\heirarchy-diagram.jpg',\n",
       " 'C:\\\\Users\\\\lavy_\\\\OneDrive\\\\Desktop\\\\Python,ML,Coding\\\\udacity\\\\[FreeCoursesOnline.Me] UDACITY - Android Developer Nanodegree v7.0.0\\\\img\\\\android-developer-large.jpg',\n",
       " 'C:\\\\Users\\\\lavy_\\\\OneDrive\\\\Desktop\\\\Python,ML,Coding\\\\udacity\\\\[FreeCoursesOnline.Me] Udacity - Data Analyst Nanodegree v1.0.0\\\\img\\\\data-analyst-large.jpg',\n",
       " 'C:\\\\Users\\\\lavy_\\\\OneDrive\\\\Desktop\\\\Python,ML,Coding\\\\udacity\\\\[FreeCoursesOnline.Me] Udacity - Data Analyst Nanodegree v1.0.0\\\\Part 12-Module 02-Lesson 05_Trees\\\\img\\\\tree-traversal-practice.jpg',\n",
       " 'C:\\\\Users\\\\lavy_\\\\OneDrive\\\\Desktop\\\\Python,ML,Coding\\\\udacity\\\\[FreeCoursesOnline.Me] Udacity - Data Analyst Nanodegree v1.0.0\\\\Part 13-Module 01-Lesson 02_D3 Building Blocks\\\\img\\\\mat-l-600x600-1.jpg',\n",
       " 'C:\\\\Users\\\\lavy_\\\\OneDrive\\\\Desktop\\\\Python,ML,Coding\\\\udacity\\\\[FreeCoursesOnline.Me] Udacity - Data Analyst Nanodegree v1.0.0\\\\Part 15-Module 01-Lesson 01_Data Visualization Fundamentals\\\\img\\\\mat.jpg',\n",
       " 'C:\\\\Users\\\\lavy_\\\\OneDrive\\\\Desktop\\\\Python,ML,Coding\\\\udacity\\\\[FreeCoursesOnline.Me] Udacity - Data Analyst Nanodegree v1.0.0\\\\Part 15-Module 01-Lesson 01_Data Visualization Fundamentals\\\\img\\\\natgeo-scatter.jpg',\n",
       " 'C:\\\\Users\\\\lavy_\\\\OneDrive\\\\Desktop\\\\Python,ML,Coding\\\\udacity\\\\[FreeCoursesOnline.Me] Udacity - Data Analyst Nanodegree v1.0.0\\\\Part 15-Module 01-Lesson 02_Design Principles\\\\img\\\\apple.jpg',\n",
       " 'C:\\\\Users\\\\lavy_\\\\OneDrive\\\\Desktop\\\\Python,ML,Coding\\\\udacity\\\\[FreeCoursesOnline.Me] Udacity - Data Analyst Nanodegree v1.0.0\\\\Part 15-Module 01-Lesson 02_Design Principles\\\\img\\\\braeburn-grannysmith-dichromat-sim.jpg',\n",
       " 'C:\\\\Users\\\\lavy_\\\\OneDrive\\\\Desktop\\\\Python,ML,Coding\\\\udacity\\\\[FreeCoursesOnline.Me] Udacity - Data Analyst Nanodegree v1.0.0\\\\Part 15-Module 01-Lesson 02_Design Principles\\\\img\\\\liefactor-doctor.jpg',\n",
       " 'C:\\\\Users\\\\lavy_\\\\OneDrive\\\\Desktop\\\\Python,ML,Coding\\\\udacity\\\\[FreeCoursesOnline.Me] Udacity - Data Analyst Nanodegree v1.0.0\\\\Part 15-Module 01-Lesson 03_Creating Visualizations in Tableau\\\\img\\\\mat.jpg',\n",
       " 'C:\\\\Users\\\\lavy_\\\\OneDrive\\\\Desktop\\\\Python,ML,Coding\\\\udacity\\\\[FreeCoursesOnline.Me] Udacity - Data Analyst Nanodegree v1.0.0\\\\Part 17-Module 01-Lesson 15_Multiple Linear Regression\\\\img\\\\resid2.jpg',\n",
       " 'C:\\\\Users\\\\lavy_\\\\OneDrive\\\\Desktop\\\\Python,ML,Coding\\\\udacity\\\\[FreeCoursesOnline.Me] Udacity - Data Analyst Nanodegree v1.0.0\\\\Part 19-Module 01-Lesson 01_Introduction to Data Visualization\\\\img\\\\natgeo-scatter.jpg',\n",
       " 'C:\\\\Users\\\\lavy_\\\\OneDrive\\\\Desktop\\\\Python,ML,Coding\\\\udacity\\\\[FreeCoursesOnline.Me] Udacity - Data Analyst Nanodegree v1.0.0\\\\Part 19-Module 01-Lesson 02_Design\\\\img\\\\apple.jpg',\n",
       " 'C:\\\\Users\\\\lavy_\\\\OneDrive\\\\Desktop\\\\Python,ML,Coding\\\\udacity\\\\[FreeCoursesOnline.Me] UDACITY - Data Structures & Algorithms v1.0.0\\\\Part 03-Module 01-Lesson 04_Problems vs. Algorithms\\\\img\\\\2-5-managing-app-location-with-react-router-2x.jpg',\n",
       " 'C:\\\\Users\\\\lavy_\\\\OneDrive\\\\Desktop\\\\Python,ML,Coding\\\\udacity\\\\[FreeCoursesOnline.Me] UDACITY - Data Structures & Algorithms v1.0.0\\\\Part 06-Module 01-Lesson 02_Take 30 Min to Improve your LinkedIn\\\\img\\\\profile-pics.jpg',\n",
       " 'C:\\\\Users\\\\lavy_\\\\OneDrive\\\\Desktop\\\\Python,ML,Coding\\\\udacity\\\\[FreeCoursesOnline.Me] Udacity - Deep Reinforcement Learning Nanodegree v1.0.0\\\\Part 01-Module 01-Lesson 04_Learning Plan\\\\img\\\\udacitylogo.jpg',\n",
       " 'C:\\\\Users\\\\lavy_\\\\OneDrive\\\\Desktop\\\\Python,ML,Coding\\\\udacity\\\\[FreeCoursesOnline.Me] Udacity - Deep Reinforcement Learning Nanodegree v1.0.0\\\\Part 01-Module 01-Lesson 06_The RL Framework The Problem\\\\img\\\\article-2278590-1792e332000005dc-394-634x615.jpg',\n",
       " 'C:\\\\Users\\\\lavy_\\\\OneDrive\\\\Desktop\\\\Python,ML,Coding\\\\udacity\\\\[FreeCoursesOnline.Me] Udacity - Deep Reinforcement Learning Nanodegree v1.0.0\\\\Part 01-Module 01-Lesson 06_The RL Framework The Problem\\\\img\\\\chess-game.jpg',\n",
       " 'C:\\\\Users\\\\lavy_\\\\OneDrive\\\\Desktop\\\\Python,ML,Coding\\\\udacity\\\\[FreeCoursesOnline.Me] Udacity - Deep Reinforcement Learning Nanodegree v1.0.0\\\\Part 01-Module 01-Lesson 06_The RL Framework The Problem\\\\img\\\\go.jpg',\n",
       " 'C:\\\\Users\\\\lavy_\\\\OneDrive\\\\Desktop\\\\Python,ML,Coding\\\\udacity\\\\[FreeCoursesOnline.Me] Udacity - Deep Reinforcement Learning Nanodegree v1.0.0\\\\Part 01-Module 01-Lesson 06_The RL Framework The Problem\\\\img\\\\index.jpg',\n",
       " 'C:\\\\Users\\\\lavy_\\\\OneDrive\\\\Desktop\\\\Python,ML,Coding\\\\udacity\\\\[FreeCoursesOnline.Me] Udacity - Deep Reinforcement Learning Nanodegree v1.0.0\\\\Part 01-Module 01-Lesson 06_The RL Framework The Problem\\\\img\\\\pup.jpg',\n",
       " 'C:\\\\Users\\\\lavy_\\\\OneDrive\\\\Desktop\\\\Python,ML,Coding\\\\udacity\\\\[FreeCoursesOnline.Me] Udacity - Deep Reinforcement Learning Nanodegree v1.0.0\\\\Part 01-Module 01-Lesson 09_Temporal-Difference Methods\\\\img\\\\matengai-of-kuniga-coast-in-oki-island-shimane-pref600.jpg',\n",
       " 'C:\\\\Users\\\\lavy_\\\\OneDrive\\\\Desktop\\\\Python,ML,Coding\\\\udacity\\\\[FreeCoursesOnline.Me] Udacity - Deep Reinforcement Learning Nanodegree v1.0.0\\\\Part 02-Module 01-Lesson 01_Study Plan\\\\img\\\\udacitylogo.jpg',\n",
       " 'C:\\\\Users\\\\lavy_\\\\OneDrive\\\\Desktop\\\\Python,ML,Coding\\\\udacity\\\\[FreeCoursesOnline.Me] Udacity - Deep Reinforcement Learning Nanodegree v1.0.0\\\\Part 02-Module 01-Lesson 02_Deep Q-Networks\\\\img\\\\rainbow-1445337690d8q.jpg',\n",
       " 'C:\\\\Users\\\\lavy_\\\\OneDrive\\\\Desktop\\\\Python,ML,Coding\\\\udacity\\\\[FreeCoursesOnline.Me] Udacity - Deep Reinforcement Learning Nanodegree v1.0.0\\\\Part 02-Module 01-Lesson 03_Deep RL for Robotics\\\\img\\\\nv-rl-stack-diagram.jpg',\n",
       " 'C:\\\\Users\\\\lavy_\\\\OneDrive\\\\Desktop\\\\Python,ML,Coding\\\\udacity\\\\[FreeCoursesOnline.Me] Udacity - Deep Reinforcement Learning Nanodegree v1.0.0\\\\Part 02-Module 01-Lesson 04_Navigation\\\\img\\\\849-1234251683jkyt.jpg',\n",
       " 'C:\\\\Users\\\\lavy_\\\\OneDrive\\\\Desktop\\\\Python,ML,Coding\\\\udacity\\\\[FreeCoursesOnline.Me] Udacity - Deep Reinforcement Learning Nanodegree v1.0.0\\\\Part 02-Module 01-Lesson 04_Navigation\\\\img\\\\idea-2579308-640.jpg',\n",
       " 'C:\\\\Users\\\\lavy_\\\\OneDrive\\\\Desktop\\\\Python,ML,Coding\\\\udacity\\\\[FreeCoursesOnline.Me] Udacity - Deep Reinforcement Learning Nanodegree v1.0.0\\\\Part 03-Module 01-Lesson 01_Study Plan\\\\img\\\\udacitylogo.jpg',\n",
       " 'C:\\\\Users\\\\lavy_\\\\OneDrive\\\\Desktop\\\\Python,ML,Coding\\\\udacity\\\\[FreeCoursesOnline.Me] Udacity - Deep Reinforcement Learning Nanodegree v1.0.0\\\\Part 03-Module 01-Lesson 07_Continuous Control\\\\img\\\\849-1234251683jkyt.jpg',\n",
       " 'C:\\\\Users\\\\lavy_\\\\OneDrive\\\\Desktop\\\\Python,ML,Coding\\\\udacity\\\\[FreeCoursesOnline.Me] Udacity - Deep Reinforcement Learning Nanodegree v1.0.0\\\\Part 03-Module 01-Lesson 07_Continuous Control\\\\img\\\\idea-2579308-640.jpg',\n",
       " 'C:\\\\Users\\\\lavy_\\\\OneDrive\\\\Desktop\\\\Python,ML,Coding\\\\udacity\\\\[FreeCoursesOnline.Me] Udacity - Deep Reinforcement Learning Nanodegree v1.0.0\\\\Part 03-Module 01-Lesson 07_Continuous Control\\\\img\\\\udacitylogo.jpg',\n",
       " 'C:\\\\Users\\\\lavy_\\\\OneDrive\\\\Desktop\\\\Python,ML,Coding\\\\udacity\\\\[FreeCoursesOnline.Me] Udacity - Deep Reinforcement Learning Nanodegree v1.0.0\\\\Part 03-Module 02-Lesson 01_Strengthen Your Online Presence Using LinkedIn\\\\img\\\\profile-pics.jpg',\n",
       " 'C:\\\\Users\\\\lavy_\\\\OneDrive\\\\Desktop\\\\Python,ML,Coding\\\\udacity\\\\[FreeCoursesOnline.Me] Udacity - Deep Reinforcement Learning Nanodegree v1.0.0\\\\Part 04-Module 01-Lesson 01_Study Plan\\\\img\\\\udacitylogo.jpg',\n",
       " 'C:\\\\Users\\\\lavy_\\\\OneDrive\\\\Desktop\\\\Python,ML,Coding\\\\udacity\\\\[FreeCoursesOnline.Me] Udacity - Deep Reinforcement Learning Nanodegree v1.0.0\\\\Part 04-Module 01-Lesson 04_Collaboration and Competition\\\\img\\\\849-1234251683jkyt.jpg',\n",
       " 'C:\\\\Users\\\\lavy_\\\\OneDrive\\\\Desktop\\\\Python,ML,Coding\\\\udacity\\\\[FreeCoursesOnline.Me] Udacity - Deep Reinforcement Learning Nanodegree v1.0.0\\\\Part 04-Module 01-Lesson 04_Collaboration and Competition\\\\img\\\\we-can-do-it-poster-1393770492mjo.jpg',\n",
       " 'C:\\\\Users\\\\lavy_\\\\OneDrive\\\\Desktop\\\\Python,ML,Coding\\\\udacity\\\\[FreeCoursesOnline.Me] Udacity - Deep Reinforcement Learning Nanodegree v1.0.0\\\\Part 05-Module 01-Lesson 01_Dynamic Programming\\\\img\\\\frozen-lake-6.jpg',\n",
       " 'C:\\\\Users\\\\lavy_\\\\OneDrive\\\\Desktop\\\\Python,ML,Coding\\\\udacity\\\\[FreeCoursesOnline.Me] Udacity - Deep Reinforcement Learning Nanodegree v1.0.0\\\\Part 06-Module 01-Lesson 02_Convolutional Neural Networks\\\\img\\\\alexis.jpg',\n",
       " 'C:\\\\Users\\\\lavy_\\\\OneDrive\\\\Desktop\\\\Python,ML,Coding\\\\udacity\\\\[FreeCoursesOnline.Me] Udacity - Deep Reinforcement Learning Nanodegree v1.0.0\\\\Part 08-Module 01-Lesson 01_C++ Getting Started\\\\img\\\\cover.jpg',\n",
       " 'C:\\\\Users\\\\lavy_\\\\OneDrive\\\\Desktop\\\\Python,ML,Coding\\\\udacity\\\\[FreeCoursesOnline.Me] Udacity - Deep Reinforcement Learning Nanodegree v1.0.0\\\\Part 08-Module 02-Lesson 01_C++ Intro to Optimization\\\\img\\\\cli.jpg',\n",
       " 'C:\\\\Users\\\\lavy_\\\\OneDrive\\\\Desktop\\\\Python,ML,Coding\\\\udacity\\\\[FreeCoursesOnline.Me] Udacity - Deep Reinforcement Learning Nanodegree v1.0.0\\\\Part 08-Module 02-Lesson 01_C++ Intro to Optimization\\\\img\\\\emptyterminal.jpg',\n",
       " 'C:\\\\Users\\\\lavy_\\\\OneDrive\\\\Desktop\\\\Python,ML,Coding\\\\udacity\\\\[FreeCoursesOnline.Me] Udacity - Deep Reinforcement Learning Nanodegree v1.0.0\\\\Part 08-Module 02-Lesson 01_C++ Intro to Optimization\\\\img\\\\files.jpg',\n",
       " 'C:\\\\Users\\\\lavy_\\\\OneDrive\\\\Desktop\\\\Python,ML,Coding\\\\udacity\\\\[FreeCoursesOnline.Me] Udacity - Deep Reinforcement Learning Nanodegree v1.0.0\\\\Part 08-Module 02-Lesson 01_C++ Intro to Optimization\\\\img\\\\menu.jpg',\n",
       " 'C:\\\\Users\\\\lavy_\\\\OneDrive\\\\Desktop\\\\Python,ML,Coding\\\\udacity\\\\[FreeCoursesOnline.Me] Udacity - Deep Reinforcement Learning Nanodegree v1.0.0\\\\Part 08-Module 02-Lesson 01_C++ Intro to Optimization\\\\img\\\\menuopen.jpg',\n",
       " 'C:\\\\Users\\\\lavy_\\\\OneDrive\\\\Desktop\\\\Python,ML,Coding\\\\udacity\\\\[FreeCoursesOnline.Me] Udacity - Deep Reinforcement Learning Nanodegree v1.0.0\\\\Part 08-Module 02-Lesson 01_C++ Intro to Optimization\\\\img\\\\texteditor.jpg',\n",
       " 'C:\\\\Users\\\\lavy_\\\\OneDrive\\\\Desktop\\\\Python,ML,Coding\\\\udacity\\\\[FreeCoursesOnline.Me] Udacity - Deep Reinforcement Learning Nanodegree v1.0.0\\\\Part 08-Module 02-Lesson 01_C++ Intro to Optimization\\\\img\\\\untitled-drawing.jpg',\n",
       " 'C:\\\\Users\\\\lavy_\\\\OneDrive\\\\Desktop\\\\Python,ML,Coding\\\\udacity\\\\[FreeCoursesOnline.Me] UDACITY - Programming for Data Science  v1.0.0\\\\Part 01-Module 01-Lesson 01_Welcome to the Nanodegree\\\\img\\\\derek.jpg',\n",
       " 'C:\\\\Users\\\\lavy_\\\\OneDrive\\\\Desktop\\\\Python,ML,Coding\\\\udacity\\\\[FreeCoursesOnline.Me] UDACITY - Programming for Data Science  v1.0.0\\\\Part 01-Module 01-Lesson 01_Welcome to the Nanodegree\\\\img\\\\karl-krueger-25dd458.jpg',\n",
       " 'C:\\\\Users\\\\lavy_\\\\OneDrive\\\\Desktop\\\\Python,ML,Coding\\\\udacity\\\\[FreeCoursesOnline.Me] UDACITY - Programming for Data Science  v1.0.0\\\\Part 01-Module 01-Lesson 01_Welcome to the Nanodegree\\\\img\\\\richard-kalehoff2x-8fh576m.jpg',\n",
       " 'C:\\\\Users\\\\lavy_\\\\OneDrive\\\\Desktop\\\\Python,ML,Coding\\\\udacity\\\\[FreeCoursesOnline.Me] UDACITY - Programming for Data Science  v1.0.0\\\\Part 04-Module 02-Lesson 01_Explore US Bikeshare Data\\\\img\\\\divvy.jpg',\n",
       " 'C:\\\\Users\\\\lavy_\\\\OneDrive\\\\Desktop\\\\Python,ML,Coding\\\\udacity\\\\[FreeCoursesOnline.Me] UDACITY - Programming for Data Science  v1.0.0\\\\Part 08-Module 01-Lesson 01_Introduction to Data Visualization\\\\img\\\\natgeo-scatter.jpg',\n",
       " 'C:\\\\Users\\\\lavy_\\\\OneDrive\\\\Desktop\\\\Python,ML,Coding\\\\udacity\\\\[FreeCoursesOnline.Me] UDACITY - Programming for Data Science  v1.0.0\\\\Part 08-Module 01-Lesson 02_Design\\\\img\\\\apple.jpg',\n",
       " 'C:\\\\Users\\\\lavy_\\\\OneDrive\\\\Desktop\\\\Python,ML,Coding\\\\udacity\\\\[FreeCoursesOnline.Me] UDACITY - Programming for Data Science  v1.0.0\\\\Part 09-Module 01-Lesson 01_HTML Syntax\\\\img\\\\code-editor-logo-vscode.jpg',\n",
       " 'C:\\\\Users\\\\lavy_\\\\OneDrive\\\\Desktop\\\\Python,ML,Coding\\\\udacity\\\\[FreeCoursesOnline.Me] UDACITY - Programming for Data Science  v1.0.0\\\\Part 09-Module 01-Lesson 04_CSS Syntax Problem Set\\\\img\\\\better-way-meme.jpg',\n",
       " 'C:\\\\Users\\\\lavy_\\\\OneDrive\\\\Desktop\\\\Python,ML,Coding\\\\udacity\\\\[FreeCoursesOnline.Me] UDACITY - Programming for Data Science  v1.0.0\\\\Part 09-Module 01-Lesson 04_CSS Syntax Problem Set\\\\img\\\\clay-pot-solution.jpg',\n",
       " 'C:\\\\Users\\\\lavy_\\\\OneDrive\\\\Desktop\\\\Python,ML,Coding\\\\udacity\\\\[FreeCoursesOnline.Me] UDACITY - Programming for Data Science  v1.0.0\\\\Part 09-Module 01-Lesson 04_CSS Syntax Problem Set\\\\img\\\\link-to-a-stylesheet-before.jpg',\n",
       " 'C:\\\\Users\\\\lavy_\\\\OneDrive\\\\Desktop\\\\Python,ML,Coding\\\\udacity\\\\[FreeCoursesOnline.Me] UDACITY - Programming for Data Science  v1.0.0\\\\Part 09-Module 01-Lesson 04_CSS Syntax Problem Set\\\\img\\\\text-solution-instructions.jpg',\n",
       " 'C:\\\\Users\\\\lavy_\\\\OneDrive\\\\Desktop\\\\Python,ML,Coding\\\\udacity\\\\[FreeCoursesOnline.Me] UDACITY - Programming for Data Science  v1.0.0\\\\Part 09-Module 01-Lesson 04_CSS Syntax Problem Set\\\\img\\\\to-do-list-solution.jpg',\n",
       " 'C:\\\\Users\\\\lavy_\\\\OneDrive\\\\Desktop\\\\Python,ML,Coding\\\\udacity\\\\[FreeCoursesOnline.Me] UDACITY - Programming for Data Science  v1.0.0\\\\Part 09-Module 01-Lesson 04_CSS Syntax Problem Set\\\\img\\\\to-do-list.jpg',\n",
       " 'C:\\\\Users\\\\lavy_\\\\OneDrive\\\\Desktop\\\\Python,ML,Coding\\\\udacity\\\\[FreeCoursesOnline.Me] UDACITY - Programming for Data Science  v1.0.0\\\\Part 09-Module 01-Lesson 04_CSS Syntax Problem Set\\\\media\\\\border-styles.jpg',\n",
       " 'C:\\\\Users\\\\lavy_\\\\OneDrive\\\\Desktop\\\\Python,ML,Coding\\\\udacity\\\\[FreeCoursesOnline.Me] UDACITY - Programming for Data Science  v1.0.0\\\\Part 09-Module 01-Lesson 04_CSS Syntax Problem Set\\\\media\\\\box-shadow.jpg',\n",
       " 'C:\\\\Users\\\\lavy_\\\\OneDrive\\\\Desktop\\\\Python,ML,Coding\\\\udacity\\\\[FreeCoursesOnline.Me] UDACITY - Programming for Data Science  v1.0.0\\\\Part 09-Module 01-Lesson 04_CSS Syntax Problem Set\\\\media\\\\cursors.jpg',\n",
       " 'C:\\\\Users\\\\lavy_\\\\OneDrive\\\\Desktop\\\\Python,ML,Coding\\\\udacity\\\\[FreeCoursesOnline.Me] UDACITY - Programming for Data Science  v1.0.0\\\\Part 09-Module 01-Lesson 04_CSS Syntax Problem Set\\\\media\\\\fonts.jpg',\n",
       " 'C:\\\\Users\\\\lavy_\\\\OneDrive\\\\Desktop\\\\Python,ML,Coding\\\\udacity\\\\[FreeCoursesOnline.Me] UDACITY - Programming for Data Science  v1.0.0\\\\Part 09-Module 01-Lesson 04_CSS Syntax Problem Set\\\\media\\\\kitten-solution-instructions.jpg',\n",
       " 'C:\\\\Users\\\\lavy_\\\\OneDrive\\\\Desktop\\\\Python,ML,Coding\\\\udacity\\\\[FreeCoursesOnline.Me] UDACITY - Programming for Data Science  v1.0.0\\\\Part 09-Module 01-Lesson 04_CSS Syntax Problem Set\\\\media\\\\kitten-solution.jpg',\n",
       " 'C:\\\\Users\\\\lavy_\\\\OneDrive\\\\Desktop\\\\Python,ML,Coding\\\\udacity\\\\[FreeCoursesOnline.Me] UDACITY - Programming for Data Science  v1.0.0\\\\Part 09-Module 01-Lesson 04_CSS Syntax Problem Set\\\\media\\\\kitten.jpg',\n",
       " 'C:\\\\Users\\\\lavy_\\\\OneDrive\\\\Desktop\\\\Python,ML,Coding\\\\udacity\\\\[FreeCoursesOnline.Me] UDACITY - Programming for Data Science  v1.0.0\\\\Part 09-Module 01-Lesson 04_CSS Syntax Problem Set\\\\media\\\\text-solution-instructions.jpg',\n",
       " 'C:\\\\Users\\\\lavy_\\\\OneDrive\\\\Desktop\\\\Python,ML,Coding\\\\udacity\\\\[FreeCoursesOnline.Me] UDACITY - Programming for Data Science  v1.0.0\\\\Part 09-Module 01-Lesson 04_CSS Syntax Problem Set\\\\media\\\\text-solution.jpg',\n",
       " 'C:\\\\Users\\\\lavy_\\\\OneDrive\\\\Desktop\\\\Python,ML,Coding\\\\udacity\\\\[FreeCoursesOnline.Me] UDACITY - Programming for Data Science  v1.0.0\\\\Part 09-Module 01-Lesson 04_CSS Syntax Problem Set\\\\media\\\\text.jpg']"
      ]
     },
     "execution_count": 29,
     "metadata": {},
     "output_type": "execute_result"
    }
   ],
   "source": [
    "glob.glob(r'C:\\Users\\lavy_\\OneDrive\\Desktop\\Python,ML,Coding\\**\\*.jpg',recursive=True)"
   ]
  },
  {
   "cell_type": "code",
   "execution_count": null,
   "metadata": {},
   "outputs": [],
   "source": []
  },
  {
   "cell_type": "code",
   "execution_count": null,
   "metadata": {},
   "outputs": [],
   "source": []
  }
 ],
 "metadata": {
  "kernelspec": {
   "display_name": "Python 3",
   "language": "python",
   "name": "python3"
  },
  "language_info": {
   "codemirror_mode": {
    "name": "ipython",
    "version": 3
   },
   "file_extension": ".py",
   "mimetype": "text/x-python",
   "name": "python",
   "nbconvert_exporter": "python",
   "pygments_lexer": "ipython3",
   "version": "3.7.1"
  }
 },
 "nbformat": 4,
 "nbformat_minor": 2
}
