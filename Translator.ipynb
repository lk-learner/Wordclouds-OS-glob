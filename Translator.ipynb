{
 "cells": [
  {
   "cell_type": "code",
   "execution_count": 2,
   "metadata": {},
   "outputs": [
    {
     "name": "stdout",
     "output_type": "stream",
     "text": [
      "Collecting translate\n",
      "  Downloading https://files.pythonhosted.org/packages/85/b2/2ea329a07bbc0c7227eef84ca89ffd6895e7ec237d6c0b26574d56103e53/translate-3.5.0-py2.py3-none-any.whl\n",
      "Collecting pre-commit (from translate)\n",
      "  Downloading https://files.pythonhosted.org/packages/dd/67/7df073b39e3141fe3624d1a5d612e3fb3d24b8879c73c338dccc5f5e4ed8/pre_commit-2.10.0-py2.py3-none-any.whl (185kB)\n",
      "Collecting tox (from translate)\n",
      "  Downloading https://files.pythonhosted.org/packages/8c/8d/c42440af715d4a6952fe3074bb1cb133681014409743a867c6396401234c/tox-3.21.3-py2.py3-none-any.whl (84kB)\n",
      "Requirement already satisfied: click in c:\\users\\lavy_\\anaconda3\\lib\\site-packages (from translate) (7.0)\n",
      "Requirement already satisfied: requests in c:\\users\\lavy_\\anaconda3\\lib\\site-packages (from translate) (2.22.0)\n",
      "Requirement already satisfied: lxml in c:\\users\\lavy_\\anaconda3\\lib\\site-packages (from translate) (4.3.4)\n",
      "Requirement already satisfied: pyyaml>=5.1 in c:\\users\\lavy_\\anaconda3\\lib\\site-packages (from pre-commit->translate) (5.1.1)\n",
      "Collecting nodeenv>=0.11.1 (from pre-commit->translate)\n",
      "  Downloading https://files.pythonhosted.org/packages/ae/d0/efdf54539948315cc76e5a66b709212963101d002822c3b54369dbf9b5e0/nodeenv-1.5.0-py2.py3-none-any.whl\n",
      "Requirement already satisfied: importlib-metadata; python_version < \"3.8\" in c:\\users\\lavy_\\anaconda3\\lib\\site-packages (from pre-commit->translate) (0.17)\n",
      "Collecting toml (from pre-commit->translate)\n",
      "  Downloading https://files.pythonhosted.org/packages/44/6f/7120676b6d73228c96e17f1f794d8ab046fc910d781c8d151120c3f1569e/toml-0.10.2-py2.py3-none-any.whl\n",
      "Collecting virtualenv>=20.0.8 (from pre-commit->translate)\n",
      "  Downloading https://files.pythonhosted.org/packages/23/5e/12fd05915bd86af400c075fbe2bf57058c02dafe377623ab0a73961428ce/virtualenv-20.4.0-py2.py3-none-any.whl (5.7MB)\n",
      "Collecting cfgv>=2.0.0 (from pre-commit->translate)\n",
      "  Downloading https://files.pythonhosted.org/packages/45/cd/3878c9248e59e5e2ebd0dc741ab984b18d86e7283ae9b127b05fc287d239/cfgv-3.2.0-py2.py3-none-any.whl\n",
      "Collecting identify>=1.0.0 (from pre-commit->translate)\n",
      "  Downloading https://files.pythonhosted.org/packages/1c/38/ba246c1c12f7413cdbb680a3a0af235fba8416f66536d60c593665c13da3/identify-1.5.13-py2.py3-none-any.whl (97kB)\n",
      "Requirement already satisfied: py>=1.4.17 in c:\\users\\lavy_\\anaconda3\\lib\\site-packages (from tox->translate) (1.8.0)\n",
      "Requirement already satisfied: pluggy>=0.12.0 in c:\\users\\lavy_\\anaconda3\\lib\\site-packages (from tox->translate) (0.12.0)\n",
      "Collecting six>=1.14.0 (from tox->translate)\n",
      "  Downloading https://files.pythonhosted.org/packages/ee/ff/48bde5c0f013094d729fe4b0316ba2a24774b3ff1c52d924a8a4cb04078a/six-1.15.0-py2.py3-none-any.whl\n",
      "Requirement already satisfied: packaging>=14 in c:\\users\\lavy_\\anaconda3\\lib\\site-packages (from tox->translate) (19.0)\n",
      "Requirement already satisfied: colorama>=0.4.1; platform_system == \"Windows\" in c:\\users\\lavy_\\anaconda3\\lib\\site-packages (from tox->translate) (0.4.1)\n",
      "Requirement already satisfied: filelock>=3.0.0 in c:\\users\\lavy_\\anaconda3\\lib\\site-packages (from tox->translate) (3.0.12)\n",
      "Requirement already satisfied: urllib3!=1.25.0,!=1.25.1,<1.26,>=1.21.1 in c:\\users\\lavy_\\anaconda3\\lib\\site-packages (from requests->translate) (1.24.2)\n",
      "Requirement already satisfied: chardet<3.1.0,>=3.0.2 in c:\\users\\lavy_\\anaconda3\\lib\\site-packages (from requests->translate) (3.0.4)\n",
      "Requirement already satisfied: certifi>=2017.4.17 in c:\\users\\lavy_\\anaconda3\\lib\\site-packages (from requests->translate) (2020.6.20)\n",
      "Requirement already satisfied: idna<2.9,>=2.5 in c:\\users\\lavy_\\anaconda3\\lib\\site-packages (from requests->translate) (2.8)\n",
      "Requirement already satisfied: zipp>=0.5 in c:\\users\\lavy_\\anaconda3\\lib\\site-packages (from importlib-metadata; python_version < \"3.8\"->pre-commit->translate) (0.5.1)\n",
      "Collecting appdirs<2,>=1.4.3 (from virtualenv>=20.0.8->pre-commit->translate)\n",
      "  Downloading https://files.pythonhosted.org/packages/3b/00/2344469e2084fb287c2e0b57b72910309874c3245463acd6cf5e3db69324/appdirs-1.4.4-py2.py3-none-any.whl\n",
      "Collecting distlib<1,>=0.3.1 (from virtualenv>=20.0.8->pre-commit->translate)\n",
      "  Downloading https://files.pythonhosted.org/packages/f5/0a/490fa011d699bb5a5f3a0cf57de82237f52a6db9d40f33c53b2736c9a1f9/distlib-0.3.1-py2.py3-none-any.whl (335kB)\n",
      "Requirement already satisfied: pyparsing>=2.0.2 in c:\\users\\lavy_\\anaconda3\\lib\\site-packages (from packaging>=14->tox->translate) (2.4.0)\n",
      "Installing collected packages: nodeenv, toml, appdirs, distlib, six, virtualenv, cfgv, identify, pre-commit, tox, translate\n",
      "  Found existing installation: six 1.12.0\n",
      "    Uninstalling six-1.12.0:\n",
      "      Successfully uninstalled six-1.12.0\n",
      "Successfully installed appdirs-1.4.4 cfgv-3.2.0 distlib-0.3.1 identify-1.5.13 nodeenv-1.5.0 pre-commit-2.10.0 six-1.15.0 toml-0.10.2 tox-3.21.3 translate-3.5.0 virtualenv-20.4.0\n",
      "Note: you may need to restart the kernel to use updated packages.\n"
     ]
    },
    {
     "name": "stderr",
     "output_type": "stream",
     "text": [
      "ERROR: astroid 2.2.5 requires typed-ast>=1.3.0; implementation_name == \"cpython\", which is not installed.\n"
     ]
    }
   ],
   "source": [
    "pip install translate"
   ]
  },
  {
   "cell_type": "code",
   "execution_count": 3,
   "metadata": {},
   "outputs": [
    {
     "name": "stdout",
     "output_type": "stream",
     "text": [
      "नमस्ते!!! मेरी कक्षा में आपका स्वागत है\n"
     ]
    }
   ],
   "source": [
    "#import the library \n",
    "from translate import Translator\n",
    "#specifying the language \n",
    "translator = Translator(to_lang=\"Hindi\")\n",
    "#typing the message\n",
    "translation = translator.translate('Hello!!! Welcome to my class')\n",
    "#print the translated message\n",
    "print(translation)"
   ]
  },
  {
   "cell_type": "code",
   "execution_count": 4,
   "metadata": {},
   "outputs": [
    {
     "name": "stdout",
     "output_type": "stream",
     "text": [
      "Bonjour!!! Bienvenue dans ma classe\n"
     ]
    }
   ],
   "source": [
    "#import the library \n",
    "from translate import Translator\n",
    "#specifying the language \n",
    "translator = Translator(to_lang=\"French\")\n",
    "#typing the message\n",
    "translation = translator.translate('Hello!!! Welcome to my class')\n",
    "#print the translated message\n",
    "print(translation)"
   ]
  },
  {
   "cell_type": "code",
   "execution_count": 5,
   "metadata": {},
   "outputs": [
    {
     "name": "stdout",
     "output_type": "stream",
     "text": [
      "¡¡¡Hola!!! Bienvenidos a mi clase\n"
     ]
    }
   ],
   "source": [
    "#import the library \n",
    "from translate import Translator\n",
    "#specifying the language \n",
    "translator = Translator(to_lang=\"Spanish\")\n",
    "#typing the message\n",
    "translation = translator.translate('Hello!!! Welcome to my class')\n",
    "#print the translated message\n",
    "print(translation)"
   ]
  },
  {
   "cell_type": "code",
   "execution_count": 6,
   "metadata": {},
   "outputs": [
    {
     "name": "stdout",
     "output_type": "stream",
     "text": [
      "స్వాగతం\n"
     ]
    }
   ],
   "source": [
    "#import the library \n",
    "from translate import Translator\n",
    "#specifying the language \n",
    "translator = Translator(to_lang=\"Telugu\")\n",
    "#typing the message\n",
    "translation = translator.translate('Hello!!! Welcome to my class')\n",
    "#print the translated message\n",
    "print(translation)"
   ]
  },
  {
   "cell_type": "code",
   "execution_count": null,
   "metadata": {},
   "outputs": [],
   "source": []
  }
 ],
 "metadata": {
  "kernelspec": {
   "display_name": "Python 3",
   "language": "python",
   "name": "python3"
  },
  "language_info": {
   "codemirror_mode": {
    "name": "ipython",
    "version": 3
   },
   "file_extension": ".py",
   "mimetype": "text/x-python",
   "name": "python",
   "nbconvert_exporter": "python",
   "pygments_lexer": "ipython3",
   "version": "3.7.1"
  }
 },
 "nbformat": 4,
 "nbformat_minor": 2
}
