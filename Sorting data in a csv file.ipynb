{
 "cells": [
  {
   "cell_type": "code",
   "execution_count": 9,
   "metadata": {},
   "outputs": [
    {
     "name": "stdout",
     "output_type": "stream",
     "text": [
      "     lesion_id      image_id   dx dx_type   age   sex localization\n",
      "0  HAM_0000118  ISIC_0027419  bkl   histo  80.0  male        scalp\n",
      "1  HAM_0000118  ISIC_0025030  bkl   histo  80.0  male        scalp\n",
      "2  HAM_0002730  ISIC_0026769  bkl   histo  80.0  male        scalp\n",
      "3  HAM_0002730  ISIC_0025661  bkl   histo  80.0  male        scalp\n",
      "4  HAM_0001466  ISIC_0031633  bkl   histo  75.0  male          ear\n"
     ]
    }
   ],
   "source": [
    "import pandas as pd\n",
    "df = pd.read_csv(r\"C:\\Users\\lavy_\\Downloads\\HAM10000_metadata.csv\")\n",
    "print(df.head())"
   ]
  },
  {
   "cell_type": "code",
   "execution_count": 10,
   "metadata": {},
   "outputs": [
    {
     "name": "stdout",
     "output_type": "stream",
     "text": [
      "object\n"
     ]
    }
   ],
   "source": [
    "print(df['dx'].dtypes)"
   ]
  },
  {
   "cell_type": "code",
   "execution_count": 11,
   "metadata": {},
   "outputs": [
    {
     "name": "stdout",
     "output_type": "stream",
     "text": [
      "['bkl' 'nv' 'df' 'mel' 'vasc' 'bcc' 'akiec']\n"
     ]
    }
   ],
   "source": [
    "print(df['dx'].unique())"
   ]
  },
  {
   "cell_type": "code",
   "execution_count": 12,
   "metadata": {},
   "outputs": [
    {
     "name": "stdout",
     "output_type": "stream",
     "text": [
      "        lesion_id      image_id     dx dx_type   age     sex     localization\n",
      "9803  HAM_0004722  ISIC_0024575  akiec   histo  70.0  female  upper extremity\n",
      "9789  HAM_0003136  ISIC_0026645  akiec   histo  65.0    male             back\n",
      "9790  HAM_0004609  ISIC_0024710  akiec   histo  75.0    male             back\n",
      "9791  HAM_0004780  ISIC_0029315  akiec   histo  75.0    male  lower extremity\n",
      "9792  HAM_0003157  ISIC_0029811  akiec   histo  65.0    male  upper extremity\n"
     ]
    }
   ],
   "source": [
    "sort_by_dx = df.sort_values('dx',ascending=True)\n",
    "print(sort_by_dx.head())"
   ]
  },
  {
   "cell_type": "code",
   "execution_count": 13,
   "metadata": {
    "scrolled": true
   },
   "outputs": [
    {
     "name": "stdout",
     "output_type": "stream",
     "text": [
      "         lesion_id      image_id     dx dx_type   age     sex     localization\n",
      "9687   HAM_0002644  ISIC_0029417  akiec   histo  80.0  female             neck\n",
      "9688   HAM_0006002  ISIC_0029915  akiec   histo  50.0  female             face\n",
      "9689   HAM_0000549  ISIC_0029360  akiec   histo  70.0    male  upper extremity\n",
      "9690   HAM_0000549  ISIC_0026152  akiec   histo  70.0    male  upper extremity\n",
      "9691   HAM_0000673  ISIC_0029659  akiec   histo  70.0  female             face\n",
      "9692   HAM_0006875  ISIC_0026575  akiec   histo  80.0    male             face\n",
      "9693   HAM_0006875  ISIC_0030586  akiec   histo  80.0    male             face\n",
      "9694   HAM_0005282  ISIC_0025178  akiec   histo  65.0    male  lower extremity\n",
      "9695   HAM_0005282  ISIC_0028730  akiec   histo  65.0    male  lower extremity\n",
      "9696   HAM_0006898  ISIC_0029041  akiec   histo  80.0    male            scalp\n",
      "9697   HAM_0006898  ISIC_0031040  akiec   histo  80.0    male            scalp\n",
      "9698   HAM_0001499  ISIC_0031929  akiec   histo  65.0    male  lower extremity\n",
      "9699   HAM_0001694  ISIC_0032173  akiec   histo  80.0  female  upper extremity\n",
      "9700   HAM_0002615  ISIC_0033456  akiec   histo  70.0    male            scalp\n",
      "9701   HAM_0002061  ISIC_0030408  akiec   histo  80.0    male            scalp\n",
      "9702   HAM_0001526  ISIC_0027795  akiec   histo  70.0    male              ear\n",
      "9703   HAM_0001495  ISIC_0024913  akiec   histo  85.0    male             back\n",
      "9704   HAM_0005027  ISIC_0032329  akiec   histo  85.0  female             back\n",
      "9705   HAM_0003422  ISIC_0031198  akiec   histo  55.0  female             neck\n",
      "9706   HAM_0006746  ISIC_0026872  akiec   histo  85.0    male  lower extremity\n",
      "9707   HAM_0005931  ISIC_0031191  akiec   histo  60.0    male  lower extremity\n",
      "9708   HAM_0002672  ISIC_0025948  akiec   histo  75.0    male             face\n",
      "9709   HAM_0006898  ISIC_0030242  akiec   histo  80.0    male            scalp\n",
      "9710   HAM_0004243  ISIC_0031119  akiec   histo  80.0    male             face\n",
      "9711   HAM_0002745  ISIC_0024562  akiec   histo  75.0    male            chest\n",
      "9712   HAM_0005301  ISIC_0026362  akiec   histo  60.0  female  upper extremity\n",
      "9713   HAM_0001621  ISIC_0030297  akiec   histo  70.0  female             face\n",
      "9714   HAM_0006893  ISIC_0027084  akiec   histo  65.0  female  lower extremity\n",
      "9715   HAM_0003989  ISIC_0030714  akiec   histo  70.0  female             face\n",
      "9716   HAM_0002343  ISIC_0028158  akiec   histo  70.0  female             back\n",
      "...            ...           ...    ...     ...   ...     ...              ...\n",
      "9984   HAM_0006024  ISIC_0029830  akiec   histo  60.0    male             face\n",
      "9985   HAM_0006024  ISIC_0027884  akiec   histo  60.0    male             face\n",
      "9986   HAM_0006220  ISIC_0028517  akiec   histo  60.0    male  upper extremity\n",
      "9987   HAM_0004809  ISIC_0031108  akiec   histo  60.0    male             face\n",
      "9988   HAM_0001036  ISIC_0027588  akiec   histo  50.0  female             face\n",
      "9989   HAM_0004384  ISIC_0029025  akiec   histo  70.0    male             face\n",
      "9990   HAM_0004462  ISIC_0027334  akiec   histo  45.0    male            trunk\n",
      "9991   HAM_0001152  ISIC_0030133  akiec   histo  65.0    male             face\n",
      "9992   HAM_0004282  ISIC_0033811  akiec   histo  65.0  female             face\n",
      "9993   HAM_0000545  ISIC_0026650  akiec   histo  70.0    male             face\n",
      "9994   HAM_0000193  ISIC_0030877  akiec   histo  60.0  female             face\n",
      "9995   HAM_0000193  ISIC_0027950  akiec   histo  60.0  female             face\n",
      "9996   HAM_0006180  ISIC_0027615  akiec   histo  70.0    male  upper extremity\n",
      "9997   HAM_0006180  ISIC_0028990  akiec   histo  70.0    male  upper extremity\n",
      "9998   HAM_0004282  ISIC_0033358  akiec   histo  65.0  female             face\n",
      "9999   HAM_0000356  ISIC_0030655  akiec   histo  60.0  female             face\n",
      "10000  HAM_0004282  ISIC_0033151  akiec   histo  65.0  female             face\n",
      "10001  HAM_0000020  ISIC_0031922  akiec   histo  60.0  female             face\n",
      "10002  HAM_0006442  ISIC_0032947  akiec   histo  70.0    male             hand\n",
      "10003  HAM_0004592  ISIC_0029141  akiec   histo  60.0  female             face\n",
      "10004  HAM_0005579  ISIC_0029309  akiec   histo  80.0    male             face\n",
      "10005  HAM_0005579  ISIC_0028393  akiec   histo  80.0    male             face\n",
      "10006  HAM_0004034  ISIC_0024948  akiec   histo  55.0  female             face\n",
      "10007  HAM_0001565  ISIC_0028619  akiec   histo  60.0  female             face\n",
      "10008  HAM_0001576  ISIC_0033705  akiec   histo  60.0    male             face\n",
      "10009  HAM_0005705  ISIC_0031430  akiec   histo  75.0  female  lower extremity\n",
      "10010  HAM_0002867  ISIC_0033084  akiec   histo  40.0    male          abdomen\n",
      "10011  HAM_0002867  ISIC_0033550  akiec   histo  40.0    male          abdomen\n",
      "10012  HAM_0002867  ISIC_0033536  akiec   histo  40.0    male          abdomen\n",
      "10013  HAM_0000239  ISIC_0032854  akiec   histo  80.0    male             face\n",
      "\n",
      "[327 rows x 7 columns]\n"
     ]
    }
   ],
   "source": [
    "df_akiec = df[df.dx == 'akiec']\n",
    "print(df_akiec)"
   ]
  },
  {
   "cell_type": "code",
   "execution_count": 14,
   "metadata": {},
   "outputs": [],
   "source": [
    "df_akiec.to_csv (r'C:\\Users\\lavy_\\Downloads\\df_akiec_dataframe.csv', index = False, header=True)"
   ]
  },
  {
   "cell_type": "code",
   "execution_count": 15,
   "metadata": {
    "collapsed": true
   },
   "outputs": [
    {
     "name": "stdout",
     "output_type": "stream",
     "text": [
      "        lesion_id      image_id  dx    dx_type   age     sex     localization\n",
      "64    HAM_0001751  ISIC_0024698  nv  consensus  70.0    male             face\n",
      "1210  HAM_0000559  ISIC_0024693  nv  follow_up  45.0  female  upper extremity\n",
      "2976  HAM_0004932  ISIC_0032212  nv  follow_up  45.0  female             foot\n",
      "2977  HAM_0004516  ISIC_0025775  nv  follow_up  45.0  female             neck\n",
      "2978  HAM_0006510  ISIC_0029828  nv  follow_up  55.0  female  lower extremity\n",
      "2979  HAM_0007567  ISIC_0031588  nv  follow_up  45.0  female  lower extremity\n",
      "2980  HAM_0001940  ISIC_0028502  nv  follow_up  45.0  female          abdomen\n",
      "2981  HAM_0002530  ISIC_0028239  nv  follow_up  45.0  female  lower extremity\n",
      "2982  HAM_0002082  ISIC_0031325  nv  follow_up  40.0    male            trunk\n",
      "2983  HAM_0000701  ISIC_0032115  nv  follow_up  45.0  female  upper extremity\n",
      "2984  HAM_0000956  ISIC_0025251  nv  follow_up  45.0  female             neck\n",
      "2985  HAM_0004098  ISIC_0025843  nv  follow_up  45.0  female            trunk\n",
      "2986  HAM_0002808  ISIC_0031503  nv  follow_up  45.0  female            trunk\n",
      "2987  HAM_0002623  ISIC_0025384  nv  follow_up  45.0  female            trunk\n",
      "2988  HAM_0002483  ISIC_0032446  nv  follow_up  45.0  female            trunk\n",
      "2989  HAM_0006830  ISIC_0032285  nv  follow_up  45.0  female          abdomen\n",
      "2990  HAM_0005234  ISIC_0027347  nv  follow_up  45.0  female          genital\n",
      "2991  HAM_0004233  ISIC_0029979  nv  follow_up  45.0  female             back\n",
      "2992  HAM_0006489  ISIC_0029624  nv  follow_up  45.0  female            trunk\n",
      "2993  HAM_0005586  ISIC_0024415  nv  follow_up  45.0  female             back\n",
      "2994  HAM_0001594  ISIC_0025311  nv  follow_up  45.0  female            trunk\n",
      "2995  HAM_0002971  ISIC_0026425  nv  follow_up  45.0  female  lower extremity\n",
      "2996  HAM_0001335  ISIC_0026555  nv  follow_up  50.0    male  upper extremity\n",
      "2997  HAM_0003042  ISIC_0031282  nv  follow_up  50.0    male            trunk\n",
      "2998  HAM_0000727  ISIC_0029961  nv  follow_up  50.0    male  lower extremity\n",
      "2999  HAM_0007329  ISIC_0026583  nv  follow_up  50.0    male  lower extremity\n",
      "3000  HAM_0000289  ISIC_0032226  nv  follow_up  50.0    male  lower extremity\n",
      "3001  HAM_0007339  ISIC_0031536  nv  follow_up  50.0    male  upper extremity\n",
      "3002  HAM_0006806  ISIC_0026681  nv  follow_up  50.0    male  upper extremity\n",
      "3003  HAM_0007320  ISIC_0026780  nv  follow_up  50.0    male  upper extremity\n",
      "...           ...           ...  ..        ...   ...     ...              ...\n",
      "9657  HAM_0001956  ISIC_0024955  nv  consensus  30.0  female             back\n",
      "9658  HAM_0001956  ISIC_0030038  nv  consensus  30.0  female             back\n",
      "9659  HAM_0000258  ISIC_0030909  nv  consensus  30.0  female            scalp\n",
      "9660  HAM_0000258  ISIC_0031323  nv  consensus  30.0  female            scalp\n",
      "9661  HAM_0004742  ISIC_0031791  nv  consensus  50.0  female             back\n",
      "9662  HAM_0004742  ISIC_0028338  nv  consensus  50.0  female             back\n",
      "9663  HAM_0001633  ISIC_0028618  nv  consensus  70.0    male          unknown\n",
      "9664  HAM_0001633  ISIC_0031488  nv  consensus  70.0    male          unknown\n",
      "9665  HAM_0005091  ISIC_0027345  nv  consensus  50.0  female            chest\n",
      "9666  HAM_0005091  ISIC_0031148  nv  consensus  50.0  female            chest\n",
      "9667  HAM_0005018  ISIC_0028008  nv  consensus  55.0    male  upper extremity\n",
      "9668  HAM_0005018  ISIC_0026440  nv  consensus  55.0    male  upper extremity\n",
      "9669  HAM_0007122  ISIC_0028399  nv  consensus  75.0    male  lower extremity\n",
      "9670  HAM_0001410  ISIC_0029143  nv  consensus  15.0  female            chest\n",
      "9671  HAM_0003965  ISIC_0025652  nv  consensus  15.0  female             back\n",
      "9672  HAM_0002554  ISIC_0028585  nv  consensus  30.0    male             back\n",
      "9673  HAM_0004857  ISIC_0029038  nv  consensus  70.0    male  lower extremity\n",
      "9674  HAM_0004857  ISIC_0031222  nv  consensus  70.0    male  lower extremity\n",
      "9675  HAM_0007609  ISIC_0026326  nv  consensus  30.0    male             face\n",
      "9676  HAM_0002554  ISIC_0032102  nv  consensus  30.0    male             back\n",
      "9677  HAM_0006283  ISIC_0032273  nv  consensus  20.0    male            chest\n",
      "9678  HAM_0003384  ISIC_0031299  nv  consensus  55.0  female            chest\n",
      "9679  HAM_0003384  ISIC_0028438  nv  consensus  55.0  female            chest\n",
      "9680  HAM_0001410  ISIC_0024830  nv  consensus  15.0  female            chest\n",
      "9681  HAM_0003965  ISIC_0028380  nv  consensus  15.0  female             back\n",
      "9682  HAM_0006283  ISIC_0027924  nv  consensus  20.0    male            chest\n",
      "9683  HAM_0000102  ISIC_0031547  nv  consensus  20.0    male             back\n",
      "9684  HAM_0000102  ISIC_0032221  nv  consensus  20.0    male             back\n",
      "9685  HAM_0005314  ISIC_0030693  nv  consensus  40.0    male             neck\n",
      "9686  HAM_0003322  ISIC_0031649  nv  consensus  50.0  female             face\n",
      "\n",
      "[6705 rows x 7 columns]\n"
     ]
    }
   ],
   "source": [
    "df_nv = df[df.dx == 'nv']\n",
    "print(df_nv)"
   ]
  },
  {
   "cell_type": "code",
   "execution_count": 16,
   "metadata": {
    "collapsed": true
   },
   "outputs": [
    {
     "ename": "PermissionError",
     "evalue": "[Errno 13] Permission denied: 'C:\\\\Users\\\\lavy_\\\\Downloads\\\\df_nv_dataframe.csv'",
     "output_type": "error",
     "traceback": [
      "\u001b[1;31m---------------------------------------------------------------------------\u001b[0m",
      "\u001b[1;31mPermissionError\u001b[0m                           Traceback (most recent call last)",
      "\u001b[1;32m<ipython-input-16-61528910306b>\u001b[0m in \u001b[0;36m<module>\u001b[1;34m\u001b[0m\n\u001b[1;32m----> 1\u001b[1;33m \u001b[0mdf_nv\u001b[0m\u001b[1;33m.\u001b[0m\u001b[0mto_csv\u001b[0m \u001b[1;33m(\u001b[0m\u001b[1;34mr'C:\\Users\\lavy_\\Downloads\\df_nv_dataframe.csv'\u001b[0m\u001b[1;33m,\u001b[0m \u001b[0mindex\u001b[0m \u001b[1;33m=\u001b[0m \u001b[1;32mFalse\u001b[0m\u001b[1;33m,\u001b[0m \u001b[0mheader\u001b[0m\u001b[1;33m=\u001b[0m\u001b[1;32mTrue\u001b[0m\u001b[1;33m)\u001b[0m\u001b[1;33m\u001b[0m\u001b[1;33m\u001b[0m\u001b[0m\n\u001b[0m",
      "\u001b[1;32m~\\Anaconda3\\lib\\site-packages\\pandas\\core\\generic.py\u001b[0m in \u001b[0;36mto_csv\u001b[1;34m(self, path_or_buf, sep, na_rep, float_format, columns, header, index, index_label, mode, encoding, compression, quoting, quotechar, line_terminator, chunksize, tupleize_cols, date_format, doublequote, escapechar, decimal)\u001b[0m\n\u001b[0;32m   3018\u001b[0m                                  \u001b[0mdoublequote\u001b[0m\u001b[1;33m=\u001b[0m\u001b[0mdoublequote\u001b[0m\u001b[1;33m,\u001b[0m\u001b[1;33m\u001b[0m\u001b[1;33m\u001b[0m\u001b[0m\n\u001b[0;32m   3019\u001b[0m                                  escapechar=escapechar, decimal=decimal)\n\u001b[1;32m-> 3020\u001b[1;33m         \u001b[0mformatter\u001b[0m\u001b[1;33m.\u001b[0m\u001b[0msave\u001b[0m\u001b[1;33m(\u001b[0m\u001b[1;33m)\u001b[0m\u001b[1;33m\u001b[0m\u001b[1;33m\u001b[0m\u001b[0m\n\u001b[0m\u001b[0;32m   3021\u001b[0m \u001b[1;33m\u001b[0m\u001b[0m\n\u001b[0;32m   3022\u001b[0m         \u001b[1;32mif\u001b[0m \u001b[0mpath_or_buf\u001b[0m \u001b[1;32mis\u001b[0m \u001b[1;32mNone\u001b[0m\u001b[1;33m:\u001b[0m\u001b[1;33m\u001b[0m\u001b[1;33m\u001b[0m\u001b[0m\n",
      "\u001b[1;32m~\\Anaconda3\\lib\\site-packages\\pandas\\io\\formats\\csvs.py\u001b[0m in \u001b[0;36msave\u001b[1;34m(self)\u001b[0m\n\u001b[0;32m    155\u001b[0m             f, handles = _get_handle(self.path_or_buf, self.mode,\n\u001b[0;32m    156\u001b[0m                                      \u001b[0mencoding\u001b[0m\u001b[1;33m=\u001b[0m\u001b[0mself\u001b[0m\u001b[1;33m.\u001b[0m\u001b[0mencoding\u001b[0m\u001b[1;33m,\u001b[0m\u001b[1;33m\u001b[0m\u001b[1;33m\u001b[0m\u001b[0m\n\u001b[1;32m--> 157\u001b[1;33m                                      compression=self.compression)\n\u001b[0m\u001b[0;32m    158\u001b[0m             \u001b[0mclose\u001b[0m \u001b[1;33m=\u001b[0m \u001b[1;32mTrue\u001b[0m\u001b[1;33m\u001b[0m\u001b[1;33m\u001b[0m\u001b[0m\n\u001b[0;32m    159\u001b[0m \u001b[1;33m\u001b[0m\u001b[0m\n",
      "\u001b[1;32m~\\Anaconda3\\lib\\site-packages\\pandas\\io\\common.py\u001b[0m in \u001b[0;36m_get_handle\u001b[1;34m(path_or_buf, mode, encoding, compression, memory_map, is_text)\u001b[0m\n\u001b[0;32m    422\u001b[0m         \u001b[1;32melif\u001b[0m \u001b[0mencoding\u001b[0m\u001b[1;33m:\u001b[0m\u001b[1;33m\u001b[0m\u001b[1;33m\u001b[0m\u001b[0m\n\u001b[0;32m    423\u001b[0m             \u001b[1;31m# Python 3 and encoding\u001b[0m\u001b[1;33m\u001b[0m\u001b[1;33m\u001b[0m\u001b[1;33m\u001b[0m\u001b[0m\n\u001b[1;32m--> 424\u001b[1;33m             \u001b[0mf\u001b[0m \u001b[1;33m=\u001b[0m \u001b[0mopen\u001b[0m\u001b[1;33m(\u001b[0m\u001b[0mpath_or_buf\u001b[0m\u001b[1;33m,\u001b[0m \u001b[0mmode\u001b[0m\u001b[1;33m,\u001b[0m \u001b[0mencoding\u001b[0m\u001b[1;33m=\u001b[0m\u001b[0mencoding\u001b[0m\u001b[1;33m,\u001b[0m \u001b[0mnewline\u001b[0m\u001b[1;33m=\u001b[0m\u001b[1;34m\"\"\u001b[0m\u001b[1;33m)\u001b[0m\u001b[1;33m\u001b[0m\u001b[1;33m\u001b[0m\u001b[0m\n\u001b[0m\u001b[0;32m    425\u001b[0m         \u001b[1;32melif\u001b[0m \u001b[0mis_text\u001b[0m\u001b[1;33m:\u001b[0m\u001b[1;33m\u001b[0m\u001b[1;33m\u001b[0m\u001b[0m\n\u001b[0;32m    426\u001b[0m             \u001b[1;31m# Python 3 and no explicit encoding\u001b[0m\u001b[1;33m\u001b[0m\u001b[1;33m\u001b[0m\u001b[1;33m\u001b[0m\u001b[0m\n",
      "\u001b[1;31mPermissionError\u001b[0m: [Errno 13] Permission denied: 'C:\\\\Users\\\\lavy_\\\\Downloads\\\\df_nv_dataframe.csv'"
     ]
    }
   ],
   "source": [
    "df_nv.to_csv (r'C:\\Users\\lavy_\\Downloads\\df_nv_dataframe.csv', index = False, header=True)"
   ]
  },
  {
   "cell_type": "code",
   "execution_count": 17,
   "metadata": {
    "collapsed": true
   },
   "outputs": [
    {
     "name": "stdout",
     "output_type": "stream",
     "text": [
      "        lesion_id      image_id  dx    dx_type   age     sex     localization\n",
      "1095  HAM_0005276  ISIC_0027008  df      histo  75.0    male             back\n",
      "1096  HAM_0005276  ISIC_0028790  df      histo  75.0    male             back\n",
      "1097  HAM_0004103  ISIC_0028880  df      histo  55.0    male  lower extremity\n",
      "1098  HAM_0004103  ISIC_0031309  df      histo  55.0    male  lower extremity\n",
      "1099  HAM_0001164  ISIC_0030021  df      histo  50.0  female  upper extremity\n",
      "1100  HAM_0001164  ISIC_0027118  df      histo  50.0  female  upper extremity\n",
      "1101  HAM_0005684  ISIC_0027613  df      histo  75.0  female  lower extremity\n",
      "1102  HAM_0005684  ISIC_0032468  df      histo  75.0  female  lower extremity\n",
      "1103  HAM_0004330  ISIC_0029760  df      histo  70.0    male  lower extremity\n",
      "1104  HAM_0004330  ISIC_0030555  df      histo  70.0    male  lower extremity\n",
      "1105  HAM_0007526  ISIC_0030244  df      histo  50.0    male  lower extremity\n",
      "1106  HAM_0007526  ISIC_0031827  df      histo  50.0    male  lower extremity\n",
      "1107  HAM_0007051  ISIC_0031002  df      histo  65.0    male  upper extremity\n",
      "1108  HAM_0007051  ISIC_0025668  df      histo  65.0    male  upper extremity\n",
      "1109  HAM_0005518  ISIC_0032410  df      histo  30.0    male  lower extremity\n",
      "1110  HAM_0002546  ISIC_0030579  df      histo  55.0  female  upper extremity\n",
      "1111  HAM_0001785  ISIC_0034169  df      histo  50.0    male  upper extremity\n",
      "1112  HAM_0001785  ISIC_0032941  df      histo  50.0    male  upper extremity\n",
      "1113  HAM_0002909  ISIC_0032642  df      histo  50.0    male  lower extremity\n",
      "1114  HAM_0002909  ISIC_0033790  df      histo  50.0    male  lower extremity\n",
      "1115  HAM_0002909  ISIC_0033675  df      histo  50.0    male  lower extremity\n",
      "1116  HAM_0004756  ISIC_0029248  df      histo  55.0    male  lower extremity\n",
      "1117  HAM_0004756  ISIC_0030442  df      histo  55.0    male  lower extremity\n",
      "1118  HAM_0007225  ISIC_0032247  df      histo  75.0    male  lower extremity\n",
      "1119  HAM_0007225  ISIC_0031429  df      histo  75.0    male  lower extremity\n",
      "1120  HAM_0003555  ISIC_0030321  df      histo  30.0    male  upper extremity\n",
      "1121  HAM_0007421  ISIC_0025302  df      histo  60.0  female  lower extremity\n",
      "1122  HAM_0004317  ISIC_0029039  df      histo  50.0  female  lower extremity\n",
      "1123  HAM_0004317  ISIC_0025504  df      histo  50.0  female  lower extremity\n",
      "1124  HAM_0004036  ISIC_0027727  df      histo  55.0    male  upper extremity\n",
      "...           ...           ...  ..        ...   ...     ...              ...\n",
      "1180  HAM_0002960  ISIC_0024994  df  consensus  40.0  female  lower extremity\n",
      "1181  HAM_0006794  ISIC_0030830  df  consensus  50.0  female          genital\n",
      "1182  HAM_0000902  ISIC_0027745  df  consensus  50.0  female  lower extremity\n",
      "1183  HAM_0005330  ISIC_0024553  df  consensus  50.0  female  upper extremity\n",
      "1184  HAM_0005983  ISIC_0025594  df  consensus  65.0  female  lower extremity\n",
      "1185  HAM_0004648  ISIC_0025911  df  consensus  65.0  female  lower extremity\n",
      "1186  HAM_0006816  ISIC_0026254  df  consensus  45.0    male  lower extremity\n",
      "1187  HAM_0006787  ISIC_0026471  df  consensus  60.0    male  lower extremity\n",
      "1188  HAM_0002463  ISIC_0029052  df  consensus  75.0  female  lower extremity\n",
      "1189  HAM_0005529  ISIC_0025980  df  consensus  55.0  female  lower extremity\n",
      "1190  HAM_0004090  ISIC_0031271  df  consensus  45.0  female  lower extremity\n",
      "1191  HAM_0002129  ISIC_0025903  df  consensus  60.0    male          abdomen\n",
      "1192  HAM_0004496  ISIC_0028651  df  consensus  55.0  female  lower extremity\n",
      "1193  HAM_0005359  ISIC_0030665  df  consensus  55.0  female  lower extremity\n",
      "1194  HAM_0000024  ISIC_0027141  df  consensus  45.0  female  lower extremity\n",
      "1195  HAM_0003023  ISIC_0031257  df  consensus  55.0  female  upper extremity\n",
      "1196  HAM_0005112  ISIC_0024386  df  consensus  40.0  female  lower extremity\n",
      "1197  HAM_0004065  ISIC_0026629  df  consensus  65.0  female  lower extremity\n",
      "1198  HAM_0002045  ISIC_0029973  df  consensus  60.0    male  lower extremity\n",
      "1199  HAM_0002848  ISIC_0027598  df  consensus  60.0  female  lower extremity\n",
      "1200  HAM_0003348  ISIC_0031799  df  consensus  70.0    male  lower extremity\n",
      "1201  HAM_0000049  ISIC_0029130  df  consensus  70.0    male  lower extremity\n",
      "1202  HAM_0002871  ISIC_0027044  df  consensus  35.0  female  lower extremity\n",
      "1203  HAM_0005918  ISIC_0029177  df  consensus  35.0  female  lower extremity\n",
      "1204  HAM_0000757  ISIC_0025314  df  consensus  35.0  female  lower extremity\n",
      "1205  HAM_0007569  ISIC_0025373  df  consensus  35.0  female  lower extremity\n",
      "1206  HAM_0001841  ISIC_0025771  df  consensus  35.0  female  lower extremity\n",
      "1207  HAM_0006707  ISIC_0030870  df  consensus  45.0  female  lower extremity\n",
      "1208  HAM_0002153  ISIC_0029297  df  consensus  40.0  female  lower extremity\n",
      "1209  HAM_0007129  ISIC_0027216  df  consensus  60.0  female  lower extremity\n",
      "\n",
      "[115 rows x 7 columns]\n"
     ]
    }
   ],
   "source": [
    "df_df = df[df.dx == 'df']\n",
    "print(df_df)"
   ]
  },
  {
   "cell_type": "code",
   "execution_count": 18,
   "metadata": {},
   "outputs": [],
   "source": [
    "df_df.to_csv (r'C:\\Users\\lavy_\\Downloads\\df_df_dataframe.csv', index = False, header=True)"
   ]
  },
  {
   "cell_type": "code",
   "execution_count": 19,
   "metadata": {
    "collapsed": true
   },
   "outputs": [
    {
     "name": "stdout",
     "output_type": "stream",
     "text": [
      "        lesion_id      image_id   dx    dx_type   age     sex     localization\n",
      "0     HAM_0000118  ISIC_0027419  bkl      histo  80.0    male            scalp\n",
      "1     HAM_0000118  ISIC_0025030  bkl      histo  80.0    male            scalp\n",
      "2     HAM_0002730  ISIC_0026769  bkl      histo  80.0    male            scalp\n",
      "3     HAM_0002730  ISIC_0025661  bkl      histo  80.0    male            scalp\n",
      "4     HAM_0001466  ISIC_0031633  bkl      histo  75.0    male              ear\n",
      "5     HAM_0001466  ISIC_0027850  bkl      histo  75.0    male              ear\n",
      "6     HAM_0002761  ISIC_0029176  bkl      histo  60.0    male             face\n",
      "7     HAM_0002761  ISIC_0029068  bkl      histo  60.0    male             face\n",
      "8     HAM_0005132  ISIC_0025837  bkl      histo  70.0  female             back\n",
      "9     HAM_0005132  ISIC_0025209  bkl      histo  70.0  female             back\n",
      "10    HAM_0001396  ISIC_0025276  bkl      histo  55.0  female            trunk\n",
      "11    HAM_0004234  ISIC_0029396  bkl      histo  85.0  female            chest\n",
      "12    HAM_0004234  ISIC_0025984  bkl      histo  85.0  female            chest\n",
      "13    HAM_0001949  ISIC_0025767  bkl      histo  70.0    male            trunk\n",
      "14    HAM_0001949  ISIC_0032417  bkl      histo  70.0    male            trunk\n",
      "15    HAM_0007207  ISIC_0031326  bkl      histo  65.0    male             back\n",
      "16    HAM_0001601  ISIC_0025915  bkl      histo  75.0    male  upper extremity\n",
      "17    HAM_0001601  ISIC_0031029  bkl      histo  75.0    male  upper extremity\n",
      "18    HAM_0007571  ISIC_0029836  bkl      histo  70.0    male            chest\n",
      "19    HAM_0007571  ISIC_0032129  bkl      histo  70.0    male            chest\n",
      "20    HAM_0006071  ISIC_0032343  bkl      histo  70.0  female             face\n",
      "21    HAM_0003301  ISIC_0025033  bkl      histo  60.0    male             back\n",
      "22    HAM_0003301  ISIC_0027310  bkl      histo  60.0    male             back\n",
      "23    HAM_0004884  ISIC_0032128  bkl      histo  75.0    male  upper extremity\n",
      "24    HAM_0004884  ISIC_0025937  bkl      histo  75.0    male  upper extremity\n",
      "25    HAM_0002521  ISIC_0027828  bkl      histo  40.0    male  upper extremity\n",
      "26    HAM_0002521  ISIC_0029291  bkl      histo  40.0    male  upper extremity\n",
      "27    HAM_0006574  ISIC_0030698  bkl      histo  40.0    male             back\n",
      "28    HAM_0006574  ISIC_0025567  bkl      histo  40.0    male             back\n",
      "29    HAM_0001480  ISIC_0031753  bkl      histo  70.0    male          abdomen\n",
      "...           ...           ...  ...        ...   ...     ...              ...\n",
      "1070  HAM_0003691  ISIC_0027428  bkl  consensus  75.0  female             back\n",
      "1071  HAM_0002965  ISIC_0026446  bkl  consensus  75.0  female  lower extremity\n",
      "1072  HAM_0000974  ISIC_0026262  bkl  consensus  60.0  female  lower extremity\n",
      "1073  HAM_0003979  ISIC_0026416  bkl  consensus  45.0  female            trunk\n",
      "1074  HAM_0000452  ISIC_0029048  bkl  consensus  45.0  female          abdomen\n",
      "1075  HAM_0000607  ISIC_0025431  bkl  consensus  45.0  female          abdomen\n",
      "1076  HAM_0003582  ISIC_0027332  bkl  consensus  70.0  female            trunk\n",
      "1077  HAM_0005096  ISIC_0029741  bkl  consensus  70.0  female            trunk\n",
      "1078  HAM_0001752  ISIC_0028925  bkl  consensus  70.0  female  lower extremity\n",
      "1079  HAM_0002005  ISIC_0026556  bkl  consensus  70.0  female             back\n",
      "1080  HAM_0000105  ISIC_0031362  bkl  consensus  70.0  female            trunk\n",
      "1081  HAM_0003715  ISIC_0026941  bkl  consensus  70.0  female            trunk\n",
      "1082  HAM_0002742  ISIC_0025654  bkl  consensus  70.0  female             back\n",
      "1083  HAM_0000792  ISIC_0025387  bkl  consensus  70.0  female             back\n",
      "1084  HAM_0007604  ISIC_0027027  bkl  consensus  70.0  female            trunk\n",
      "1085  HAM_0000955  ISIC_0029036  bkl  consensus  70.0  female            trunk\n",
      "1086  HAM_0002366  ISIC_0029880  bkl  consensus  70.0  female             back\n",
      "1087  HAM_0000215  ISIC_0025484  bkl  consensus  70.0  female  lower extremity\n",
      "1088  HAM_0005262  ISIC_0030488  bkl  consensus  70.0  female            trunk\n",
      "1089  HAM_0000296  ISIC_0031761  bkl  consensus  35.0  female            trunk\n",
      "1090  HAM_0000465  ISIC_0030583  bkl  consensus  35.0  female            trunk\n",
      "1091  HAM_0007000  ISIC_0026042  bkl  consensus  75.0    male            chest\n",
      "1092  HAM_0001838  ISIC_0028797  bkl  consensus  75.0    male            trunk\n",
      "1093  HAM_0005874  ISIC_0027326  bkl  consensus  75.0    male          abdomen\n",
      "1094  HAM_0001223  ISIC_0030789  bkl  consensus  75.0    male            trunk\n",
      "3326  HAM_0002276  ISIC_0025366  bkl  consensus  50.0  female            trunk\n",
      "7100  HAM_0006159  ISIC_0028977  bkl  consensus  50.0  female  upper extremity\n",
      "9546  HAM_0003807  ISIC_0032655  bkl  consensus  40.0    male          unknown\n",
      "9630  HAM_0003807  ISIC_0033620  bkl  consensus  40.0    male          unknown\n",
      "9631  HAM_0003808  ISIC_0034040  bkl  consensus  40.0    male          unknown\n",
      "\n",
      "[1099 rows x 7 columns]\n"
     ]
    }
   ],
   "source": [
    "df_bkl = df[df.dx == 'bkl']\n",
    "print(df_bkl)"
   ]
  },
  {
   "cell_type": "code",
   "execution_count": 20,
   "metadata": {},
   "outputs": [],
   "source": [
    "df_bkl.to_csv (r'C:\\Users\\lavy_\\Downloads\\df_bkl_dataframe.csv', index = False, header=True)"
   ]
  },
  {
   "cell_type": "code",
   "execution_count": 21,
   "metadata": {
    "collapsed": true
   },
   "outputs": [
    {
     "name": "stdout",
     "output_type": "stream",
     "text": [
      "        lesion_id      image_id   dx dx_type   age     sex     localization\n",
      "2462  HAM_0000781  ISIC_0028155  bcc   histo  50.0    male             back\n",
      "2463  HAM_0003220  ISIC_0034093  bcc   histo  80.0  female             face\n",
      "2464  HAM_0007141  ISIC_0029230  bcc   histo  50.0    male            trunk\n",
      "2465  HAM_0007141  ISIC_0031513  bcc   histo  50.0    male            trunk\n",
      "2466  HAM_0007009  ISIC_0032384  bcc   histo  50.0    male             back\n",
      "2467  HAM_0007009  ISIC_0027146  bcc   histo  50.0    male             back\n",
      "2468  HAM_0006843  ISIC_0024457  bcc   histo  85.0    male             face\n",
      "2469  HAM_0006834  ISIC_0029193  bcc   histo  85.0    male             face\n",
      "2470  HAM_0006834  ISIC_0027526  bcc   histo  85.0    male             face\n",
      "2471  HAM_0002134  ISIC_0024431  bcc   histo  45.0    male             face\n",
      "2472  HAM_0002134  ISIC_0026656  bcc   histo  45.0    male             face\n",
      "2473  HAM_0001884  ISIC_0026760  bcc   histo  70.0    male             back\n",
      "2474  HAM_0001884  ISIC_0025718  bcc   histo  70.0    male             back\n",
      "2475  HAM_0004388  ISIC_0027135  bcc   histo  60.0    male             back\n",
      "2476  HAM_0004342  ISIC_0027976  bcc   histo  80.0    male             back\n",
      "2477  HAM_0005776  ISIC_0028238  bcc   histo  80.0    male             back\n",
      "2478  HAM_0005776  ISIC_0029755  bcc   histo  80.0    male             back\n",
      "2479  HAM_0006047  ISIC_0026321  bcc   histo  65.0  female            scalp\n",
      "2480  HAM_0006047  ISIC_0025467  bcc   histo  65.0  female            scalp\n",
      "2481  HAM_0003429  ISIC_0028807  bcc   histo  70.0    male             back\n",
      "2482  HAM_0003429  ISIC_0024673  bcc   histo  70.0    male             back\n",
      "2483  HAM_0005660  ISIC_0026574  bcc   histo  70.0    male  lower extremity\n",
      "2484  HAM_0000195  ISIC_0028495  bcc   histo  50.0  female             back\n",
      "2485  HAM_0000195  ISIC_0030574  bcc   histo  50.0  female             back\n",
      "2486  HAM_0004219  ISIC_0031585  bcc   histo  45.0    male            chest\n",
      "2487  HAM_0004511  ISIC_0024590  bcc   histo  80.0    male             back\n",
      "2488  HAM_0007262  ISIC_0025932  bcc   histo  85.0    male            scalp\n",
      "2489  HAM_0007262  ISIC_0028747  bcc   histo  85.0    male            scalp\n",
      "2490  HAM_0003805  ISIC_0030446  bcc   histo  80.0  female            scalp\n",
      "2491  HAM_0003805  ISIC_0031527  bcc   histo  80.0  female            scalp\n",
      "...           ...           ...  ...     ...   ...     ...              ...\n",
      "2946  HAM_0004621  ISIC_0027675  bcc   histo  70.0  female             back\n",
      "2947  HAM_0006049  ISIC_0031614  bcc   histo  45.0  female             back\n",
      "2948  HAM_0005856  ISIC_0024984  bcc   histo  55.0  female             back\n",
      "2949  HAM_0004084  ISIC_0026090  bcc   histo  75.0  female  upper extremity\n",
      "2950  HAM_0004084  ISIC_0025285  bcc   histo  75.0  female  upper extremity\n",
      "2951  HAM_0001390  ISIC_0027920  bcc   histo  75.0    male             face\n",
      "2952  HAM_0002812  ISIC_0027788  bcc   histo  75.0  female             back\n",
      "2953  HAM_0005856  ISIC_0029857  bcc   histo  55.0  female             back\n",
      "2954  HAM_0005837  ISIC_0028653  bcc   histo  50.0  female            chest\n",
      "2955  HAM_0007289  ISIC_0031263  bcc   histo  80.0    male  upper extremity\n",
      "2956  HAM_0007535  ISIC_0024829  bcc   histo  75.0    male             neck\n",
      "2957  HAM_0000807  ISIC_0032164  bcc   histo  65.0  female            chest\n",
      "2958  HAM_0002733  ISIC_0031041  bcc   histo  70.0    male            chest\n",
      "2959  HAM_0002934  ISIC_0025031  bcc   histo  60.0    male          abdomen\n",
      "2960  HAM_0000868  ISIC_0032316  bcc   histo  65.0    male             face\n",
      "2961  HAM_0005488  ISIC_0024931  bcc   histo  85.0    male  upper extremity\n",
      "2962  HAM_0001390  ISIC_0024411  bcc   histo  75.0    male             face\n",
      "2963  HAM_0001713  ISIC_0028671  bcc   histo  55.0    male             back\n",
      "2964  HAM_0001369  ISIC_0026957  bcc   histo  70.0    male             back\n",
      "2965  HAM_0004161  ISIC_0025564  bcc   histo  50.0    male             back\n",
      "2966  HAM_0006444  ISIC_0032318  bcc   histo  65.0    male             face\n",
      "2967  HAM_0004685  ISIC_0030767  bcc   histo  75.0    male            scalp\n",
      "2968  HAM_0004685  ISIC_0032061  bcc   histo  75.0    male            scalp\n",
      "2969  HAM_0006564  ISIC_0031971  bcc   histo  70.0    male          unknown\n",
      "2970  HAM_0006564  ISIC_0031721  bcc   histo  70.0    male          unknown\n",
      "2971  HAM_0001573  ISIC_0028542  bcc   histo  45.0    male            chest\n",
      "2972  HAM_0001215  ISIC_0025260  bcc   histo  70.0    male             back\n",
      "2973  HAM_0001215  ISIC_0031531  bcc   histo  70.0    male             back\n",
      "2974  HAM_0005026  ISIC_0028978  bcc   histo  40.0  female          abdomen\n",
      "2975  HAM_0005026  ISIC_0028728  bcc   histo  40.0  female          abdomen\n",
      "\n",
      "[514 rows x 7 columns]\n"
     ]
    }
   ],
   "source": [
    "df_bcc = df[df.dx == 'bcc']\n",
    "print(df_bcc)"
   ]
  },
  {
   "cell_type": "code",
   "execution_count": 22,
   "metadata": {},
   "outputs": [],
   "source": [
    "df_bcc.to_csv (r'C:\\Users\\lavy_\\Downloads\\df_bcc_dataframe.csv', index = False, header=True)"
   ]
  },
  {
   "cell_type": "code",
   "execution_count": 23,
   "metadata": {
    "collapsed": true
   },
   "outputs": [
    {
     "name": "stdout",
     "output_type": "stream",
     "text": [
      "        lesion_id      image_id    dx    dx_type   age     sex  \\\n",
      "2320  HAM_0006889  ISIC_0031197  vasc      histo  20.0    male   \n",
      "2321  HAM_0006889  ISIC_0031270  vasc      histo  20.0    male   \n",
      "2322  HAM_0001920  ISIC_0029486  vasc      histo  55.0    male   \n",
      "2323  HAM_0001920  ISIC_0031901  vasc      histo  55.0    male   \n",
      "2324  HAM_0005155  ISIC_0032076  vasc      histo  85.0    male   \n",
      "2325  HAM_0005155  ISIC_0025321  vasc      histo  85.0    male   \n",
      "2326  HAM_0002692  ISIC_0029404  vasc      histo  10.0    male   \n",
      "2327  HAM_0002692  ISIC_0030275  vasc      histo  10.0    male   \n",
      "2328  HAM_0002914  ISIC_0026092  vasc      histo  75.0    male   \n",
      "2329  HAM_0002914  ISIC_0024904  vasc      histo  75.0    male   \n",
      "2330  HAM_0006617  ISIC_0028163  vasc      histo  25.0  female   \n",
      "2331  HAM_0006617  ISIC_0024669  vasc      histo  25.0  female   \n",
      "2332  HAM_0004765  ISIC_0031217  vasc      histo  15.0    male   \n",
      "2333  HAM_0004765  ISIC_0025599  vasc      histo  15.0    male   \n",
      "2334  HAM_0002218  ISIC_0025578  vasc      histo   5.0    male   \n",
      "2335  HAM_0002218  ISIC_0029448  vasc      histo   5.0    male   \n",
      "2336  HAM_0005713  ISIC_0028714  vasc      histo  60.0  female   \n",
      "2337  HAM_0005713  ISIC_0030956  vasc      histo  60.0  female   \n",
      "2338  HAM_0003839  ISIC_0026693  vasc      histo  75.0    male   \n",
      "2339  HAM_0003839  ISIC_0027983  vasc      histo  75.0    male   \n",
      "2340  HAM_0002538  ISIC_0030770  vasc      histo  65.0  female   \n",
      "2341  HAM_0002538  ISIC_0032240  vasc      histo  65.0  female   \n",
      "2342  HAM_0003925  ISIC_0031759  vasc      histo  80.0    male   \n",
      "2343  HAM_0006324  ISIC_0029889  vasc      histo  40.0  female   \n",
      "2344  HAM_0004455  ISIC_0027385  vasc      histo  20.0    male   \n",
      "2345  HAM_0004455  ISIC_0030882  vasc      histo  20.0    male   \n",
      "2346  HAM_0007614  ISIC_0029514  vasc      histo  55.0  female   \n",
      "2347  HAM_0007614  ISIC_0027672  vasc      histo  55.0  female   \n",
      "2348  HAM_0003771  ISIC_0026163  vasc      histo  50.0  female   \n",
      "2349  HAM_0003771  ISIC_0025807  vasc      histo  50.0  female   \n",
      "...           ...           ...   ...        ...   ...     ...   \n",
      "2432  HAM_0007118  ISIC_0027856  vasc  consensus  45.0  female   \n",
      "2433  HAM_0004653  ISIC_0028431  vasc  consensus  50.0    male   \n",
      "2434  HAM_0001122  ISIC_0030104  vasc  consensus  65.0  female   \n",
      "2435  HAM_0006291  ISIC_0026490  vasc  consensus  65.0  female   \n",
      "2436  HAM_0004943  ISIC_0027790  vasc  consensus  50.0  female   \n",
      "2437  HAM_0004409  ISIC_0027888  vasc  consensus  40.0    male   \n",
      "2438  HAM_0001780  ISIC_0024370  vasc  consensus  55.0    male   \n",
      "2439  HAM_0005376  ISIC_0025606  vasc  consensus  55.0    male   \n",
      "2440  HAM_0001372  ISIC_0031103  vasc  consensus  35.0  female   \n",
      "2441  HAM_0000109  ISIC_0031065  vasc  consensus  35.0  female   \n",
      "2442  HAM_0004769  ISIC_0025250  vasc  consensus  30.0    male   \n",
      "2443  HAM_0005245  ISIC_0024375  vasc  consensus  70.0  female   \n",
      "2444  HAM_0000286  ISIC_0029099  vasc  consensus  70.0  female   \n",
      "2445  HAM_0001091  ISIC_0031955  vasc  consensus  30.0  female   \n",
      "2446  HAM_0002639  ISIC_0025249  vasc  consensus  30.0  female   \n",
      "2447  HAM_0006138  ISIC_0026713  vasc  consensus  35.0  female   \n",
      "2448  HAM_0006447  ISIC_0031276  vasc  consensus  75.0    male   \n",
      "2449  HAM_0005427  ISIC_0028885  vasc  consensus  75.0    male   \n",
      "2450  HAM_0007568  ISIC_0024867  vasc  consensus  75.0    male   \n",
      "2451  HAM_0006280  ISIC_0027937  vasc  consensus  70.0    male   \n",
      "2452  HAM_0002787  ISIC_0025425  vasc  consensus  50.0    male   \n",
      "2453  HAM_0001038  ISIC_0024706  vasc  consensus  50.0    male   \n",
      "2454  HAM_0001860  ISIC_0027665  vasc  consensus  50.0    male   \n",
      "2455  HAM_0001537  ISIC_0026467  vasc  consensus  55.0    male   \n",
      "2456  HAM_0004862  ISIC_0032057  vasc  consensus  55.0  female   \n",
      "2457  HAM_0000415  ISIC_0025680  vasc  consensus  55.0  female   \n",
      "2458  HAM_0004413  ISIC_0026068  vasc  consensus  55.0  female   \n",
      "2459  HAM_0004257  ISIC_0025452  vasc  consensus  55.0  female   \n",
      "2460  HAM_0003829  ISIC_0026349  vasc  consensus  60.0  female   \n",
      "2461  HAM_0005560  ISIC_0027269  vasc  consensus  60.0  female   \n",
      "\n",
      "         localization  \n",
      "2320  upper extremity  \n",
      "2321  upper extremity  \n",
      "2322             back  \n",
      "2323             back  \n",
      "2324  lower extremity  \n",
      "2325  lower extremity  \n",
      "2326            trunk  \n",
      "2327            trunk  \n",
      "2328  upper extremity  \n",
      "2329  upper extremity  \n",
      "2330          abdomen  \n",
      "2331          abdomen  \n",
      "2332             face  \n",
      "2333             face  \n",
      "2334             back  \n",
      "2335             back  \n",
      "2336             neck  \n",
      "2337             neck  \n",
      "2338          abdomen  \n",
      "2339          abdomen  \n",
      "2340          abdomen  \n",
      "2341          abdomen  \n",
      "2342             back  \n",
      "2343            chest  \n",
      "2344            trunk  \n",
      "2345            trunk  \n",
      "2346             face  \n",
      "2347             face  \n",
      "2348             hand  \n",
      "2349             hand  \n",
      "...               ...  \n",
      "2432            trunk  \n",
      "2433          abdomen  \n",
      "2434            trunk  \n",
      "2435            trunk  \n",
      "2436             face  \n",
      "2437            trunk  \n",
      "2438            trunk  \n",
      "2439            scalp  \n",
      "2440            trunk  \n",
      "2441            trunk  \n",
      "2442            scalp  \n",
      "2443          abdomen  \n",
      "2444          abdomen  \n",
      "2445  lower extremity  \n",
      "2446  lower extremity  \n",
      "2447             hand  \n",
      "2448          abdomen  \n",
      "2449             back  \n",
      "2450            trunk  \n",
      "2451            trunk  \n",
      "2452            trunk  \n",
      "2453            trunk  \n",
      "2454          abdomen  \n",
      "2455  lower extremity  \n",
      "2456          abdomen  \n",
      "2457            trunk  \n",
      "2458          abdomen  \n",
      "2459          abdomen  \n",
      "2460            trunk  \n",
      "2461            trunk  \n",
      "\n",
      "[142 rows x 7 columns]\n"
     ]
    }
   ],
   "source": [
    "df_vasc = df[df.dx == 'vasc']\n",
    "print(df_vasc)"
   ]
  },
  {
   "cell_type": "code",
   "execution_count": 24,
   "metadata": {},
   "outputs": [],
   "source": [
    "df_vasc.to_csv (r'C:\\Users\\lavy_\\Downloads\\df_vasc_dataframe.csv', index = False, header=True)"
   ]
  },
  {
   "cell_type": "code",
   "execution_count": 25,
   "metadata": {
    "collapsed": true
   },
   "outputs": [
    {
     "name": "stdout",
     "output_type": "stream",
     "text": [
      "         lesion_id      image_id   dx dx_type   age     sex     localization\n",
      "1211   HAM_0000871  ISIC_0025964  mel   histo  40.0  female            chest\n",
      "1212   HAM_0000871  ISIC_0030623  mel   histo  40.0  female            chest\n",
      "1213   HAM_0000040  ISIC_0027190  mel   histo  80.0    male  upper extremity\n",
      "1214   HAM_0005678  ISIC_0031023  mel   histo  60.0    male            chest\n",
      "1215   HAM_0005678  ISIC_0028086  mel   histo  60.0    male            chest\n",
      "1216   HAM_0005191  ISIC_0031177  mel   histo  40.0  female             back\n",
      "1217   HAM_0005186  ISIC_0026993  mel   histo  45.0  female  lower extremity\n",
      "1218   HAM_0007310  ISIC_0026120  mel   histo  55.0    male             back\n",
      "1219   HAM_0007310  ISIC_0028412  mel   histo  55.0    male             back\n",
      "1220   HAM_0004476  ISIC_0030417  mel   histo  70.0    male             face\n",
      "1221   HAM_0000876  ISIC_0026531  mel   histo  55.0    male          abdomen\n",
      "1222   HAM_0000876  ISIC_0032396  mel   histo  55.0    male          abdomen\n",
      "1223   HAM_0006722  ISIC_0030443  mel   histo  85.0  female  lower extremity\n",
      "1224   HAM_0006722  ISIC_0031499  mel   histo  85.0  female  lower extremity\n",
      "1225   HAM_0003832  ISIC_0025450  mel   histo  60.0  female  lower extremity\n",
      "1226   HAM_0003832  ISIC_0024586  mel   histo  60.0  female  lower extremity\n",
      "1227   HAM_0002143  ISIC_0025451  mel   histo  25.0  female             foot\n",
      "1228   HAM_0002119  ISIC_0032248  mel   histo  75.0    male             neck\n",
      "1229   HAM_0000492  ISIC_0028445  mel   histo  75.0    male          abdomen\n",
      "1230   HAM_0000492  ISIC_0027076  mel   histo  75.0    male          abdomen\n",
      "1231   HAM_0004784  ISIC_0029512  mel   histo  55.0  female             foot\n",
      "1232   HAM_0004784  ISIC_0027872  mel   histo  55.0  female             foot\n",
      "1233   HAM_0001150  ISIC_0030486  mel   histo  80.0    male              ear\n",
      "1234   HAM_0003182  ISIC_0029028  mel   histo  85.0  female            trunk\n",
      "1235   HAM_0003182  ISIC_0027125  mel   histo  85.0  female            trunk\n",
      "1236   HAM_0001747  ISIC_0029575  mel   histo  45.0    male             back\n",
      "1237   HAM_0001747  ISIC_0028361  mel   histo  45.0    male             back\n",
      "1238   HAM_0006453  ISIC_0029081  mel   histo  70.0    male          abdomen\n",
      "1239   HAM_0006453  ISIC_0025744  mel   histo  70.0    male          abdomen\n",
      "1240   HAM_0005557  ISIC_0030119  mel   histo  75.0  female  lower extremity\n",
      "...            ...           ...  ...     ...   ...     ...              ...\n",
      "2294   HAM_0006832  ISIC_0031295  mel   histo  50.0    male  upper extremity\n",
      "2295   HAM_0001095  ISIC_0026647  mel   histo  75.0    male  lower extremity\n",
      "2296   HAM_0004428  ISIC_0025317  mel   histo  80.0    male  upper extremity\n",
      "2297   HAM_0004428  ISIC_0026420  mel   histo  80.0    male  upper extremity\n",
      "2298   HAM_0004746  ISIC_0028764  mel   histo  65.0  female             back\n",
      "2299   HAM_0004746  ISIC_0029021  mel   histo  65.0  female             back\n",
      "2300   HAM_0000536  ISIC_0027359  mel   histo  45.0  female  lower extremity\n",
      "2301   HAM_0007031  ISIC_0025616  mel   histo  70.0  female  upper extremity\n",
      "2302   HAM_0003504  ISIC_0028075  mel   histo  55.0    male             face\n",
      "2303   HAM_0003504  ISIC_0026823  mel   histo  55.0    male             face\n",
      "2304   HAM_0003530  ISIC_0030929  mel   histo  55.0  female  upper extremity\n",
      "2305   HAM_0003534  ISIC_0028493  mel   histo  85.0    male            chest\n",
      "2306   HAM_0001910  ISIC_0028968  mel   histo  55.0    male  upper extremity\n",
      "2307   HAM_0001910  ISIC_0024739  mel   histo  55.0    male  upper extremity\n",
      "2308   HAM_0002525  ISIC_0025188  mel   histo  55.0    male             face\n",
      "2309   HAM_0002911  ISIC_0029272  mel   histo  60.0  female             back\n",
      "2310   HAM_0003102  ISIC_0032389  mel   histo  65.0    male             face\n",
      "2311   HAM_0003102  ISIC_0025709  mel   histo  65.0    male             face\n",
      "2312   HAM_0003534  ISIC_0031746  mel   histo  85.0    male            chest\n",
      "2313   HAM_0004047  ISIC_0025500  mel   histo  55.0  female  upper extremity\n",
      "2314   HAM_0004047  ISIC_0030277  mel   histo  55.0  female  upper extremity\n",
      "2315   HAM_0003171  ISIC_0025941  mel   histo  55.0    male             back\n",
      "2316   HAM_0003509  ISIC_0027832  mel   histo  75.0    male  lower extremity\n",
      "2317   HAM_0000536  ISIC_0031844  mel   histo  45.0  female  lower extremity\n",
      "2318   HAM_0000910  ISIC_0027797  mel   histo  50.0  female             back\n",
      "2319   HAM_0001953  ISIC_0025611  mel   histo  65.0    male             back\n",
      "6769   HAM_0002552  ISIC_0032985  mel   histo  25.0    male  upper extremity\n",
      "8820   HAM_0002552  ISIC_0032936  mel   histo  25.0    male  upper extremity\n",
      "8834   HAM_0002552  ISIC_0033232  mel   histo  25.0    male  upper extremity\n",
      "10014  HAM_0003521  ISIC_0032258  mel   histo  70.0  female             back\n",
      "\n",
      "[1113 rows x 7 columns]\n"
     ]
    }
   ],
   "source": [
    "df_mel = df[df.dx == 'mel']\n",
    "print(df_mel)"
   ]
  },
  {
   "cell_type": "code",
   "execution_count": 26,
   "metadata": {},
   "outputs": [],
   "source": [
    "df_mel.to_csv (r'C:\\Users\\lavy_\\Downloads\\df_mel_dataframe.csv', index = False, header=True)"
   ]
  },
  {
   "cell_type": "code",
   "execution_count": null,
   "metadata": {},
   "outputs": [],
   "source": []
  }
 ],
 "metadata": {
  "kernelspec": {
   "display_name": "Python 3",
   "language": "python",
   "name": "python3"
  },
  "language_info": {
   "codemirror_mode": {
    "name": "ipython",
    "version": 3
   },
   "file_extension": ".py",
   "mimetype": "text/x-python",
   "name": "python",
   "nbconvert_exporter": "python",
   "pygments_lexer": "ipython3",
   "version": "3.7.1"
  }
 },
 "nbformat": 4,
 "nbformat_minor": 2
}
