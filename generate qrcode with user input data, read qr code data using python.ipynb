{
 "cells": [
  {
   "cell_type": "code",
   "execution_count": 4,
   "metadata": {},
   "outputs": [
    {
     "name": "stdout",
     "output_type": "stream",
     "text": [
      "Enter Name:Ram\n",
      "Enter Age:65\n",
      "Enter Education:Bachelors\n"
     ]
    }
   ],
   "source": [
    "import qrcode\n",
    "#qrcode package is to create qrcode for info\n",
    "\n",
    "qr = qrcode.QRCode(version=5,box_size=5,border=2)\n",
    "\n",
    "#qrcode.QRCode() will take 3 parameters like version, box_size, border.\n",
    "#version represents the size of the QR code. It is a range of 1 to 40.\n",
    "#border represents the border of the QR code.\n",
    "#box_size represents the box size of the QR code.\n",
    "\n",
    "name = input('Enter Name:')\n",
    "age = int(input('Enter Age:'))\n",
    "education = input('Enter Education:')\n",
    "#user input: name,age,education\n",
    "\n",
    "data = {'Name':name,'Age':age,'Edu':education}\n",
    "#make dictionary out of user input\n",
    "\n",
    "qr.add_data(data)\n",
    "#adding user input data\n",
    "\n",
    "qr.make(fit=True)\n",
    "img = qr.make_image(fill_color='black',back_color='yellow')\n",
    "\n",
    "#qr.make_image(fill_color=’green’,back_color=’white’) take 2 parameters. Can stylish our QR code.\n",
    "#fill_color represents the foreground color i,e pattern color of QR code.\n",
    "#back_color represents the background color.\n",
    "\n",
    "img.save('Personalinfo.png')\n",
    "#save qrcode as image\n",
    "\n",
    "img.show()\n",
    "#show the image"
   ]
  },
  {
   "cell_type": "code",
   "execution_count": 17,
   "metadata": {
    "scrolled": true
   },
   "outputs": [
    {
     "name": "stdout",
     "output_type": "stream",
     "text": [
      "<class 'dict'>\n",
      "{'Name': 'Ram', 'Age': 65, 'Edu': 'Bachelors'}\n",
      "RAM\n",
      "65\n"
     ]
    }
   ],
   "source": [
    "#pyzbar is to decode our QR code.\n",
    "#ast is to convert string to dictionary format.\n",
    "#Pillow is to manage our images.\n",
    "\n",
    "import qrcode\n",
    "from pyzbar.pyzbar import decode\n",
    "from PIL import Image\n",
    "import ast\n",
    "\n",
    "#open the image\n",
    "data = decode(Image.open('Personalinfo.png'))\n",
    "\n",
    "#decode the data in the qrcode\n",
    "info = data[0].data.decode('ascii')\n",
    "\n",
    "#use ast package to convert string to dictionary\n",
    "data = ast.literal_eval(info)\n",
    "\n",
    "print(type(data))\n",
    "print(data)\n",
    "print(data['Name'].upper())\n",
    "print(data['Age'])"
   ]
  },
  {
   "cell_type": "code",
   "execution_count": null,
   "metadata": {},
   "outputs": [],
   "source": []
  }
 ],
 "metadata": {
  "kernelspec": {
   "display_name": "Python 3",
   "language": "python",
   "name": "python3"
  },
  "language_info": {
   "codemirror_mode": {
    "name": "ipython",
    "version": 3
   },
   "file_extension": ".py",
   "mimetype": "text/x-python",
   "name": "python",
   "nbconvert_exporter": "python",
   "pygments_lexer": "ipython3",
   "version": "3.7.1"
  }
 },
 "nbformat": 4,
 "nbformat_minor": 2
}
