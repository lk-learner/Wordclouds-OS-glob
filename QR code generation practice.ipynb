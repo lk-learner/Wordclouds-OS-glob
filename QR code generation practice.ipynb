{
 "cells": [
  {
   "cell_type": "code",
   "execution_count": 1,
   "metadata": {},
   "outputs": [],
   "source": [
    "#import the library\n",
    "import qrcode\n",
    "#link to the website\n",
    "input_data = \"https://github.com/lk-learner/\"\n",
    "#Creating object\n",
    "#version: defines size of image from integer(1 to 40), box_size = size of each box in pixels, border = thickness of the border.\n",
    "qr = qrcode.QRCode(version=1,box_size=10,border=5)\n",
    "#add_date :  pass the input text\n",
    "qr.add_data(input_data)\n",
    "#converting into image\n",
    "qr.make(fit=True)\n",
    "#specify the foreground and background color for the img \n",
    "img = qr.make_image(fill='black', back_color='white')\n",
    "#store the image\n",
    "img.save('qrcode_img.png')"
   ]
  },
  {
   "cell_type": "code",
   "execution_count": null,
   "metadata": {},
   "outputs": [],
   "source": []
  }
 ],
 "metadata": {
  "kernelspec": {
   "display_name": "Python 3",
   "language": "python",
   "name": "python3"
  },
  "language_info": {
   "codemirror_mode": {
    "name": "ipython",
    "version": 3
   },
   "file_extension": ".py",
   "mimetype": "text/x-python",
   "name": "python",
   "nbconvert_exporter": "python",
   "pygments_lexer": "ipython3",
   "version": "3.7.1"
  }
 },
 "nbformat": 4,
 "nbformat_minor": 2
}
